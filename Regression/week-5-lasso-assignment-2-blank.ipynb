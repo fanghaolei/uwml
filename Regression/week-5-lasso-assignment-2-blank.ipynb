{
 "cells": [
  {
   "cell_type": "markdown",
   "metadata": {},
   "source": [
    "# Regression Week 5: LASSO (coordinate descent)"
   ]
  },
  {
   "cell_type": "markdown",
   "metadata": {},
   "source": [
    "In this notebook, you will implement your very own LASSO solver via coordinate descent. You will:\n",
    "* Write a function to normalize features\n",
    "* Implement coordinate descent for LASSO\n",
    "* Explore effects of L1 penalty"
   ]
  },
  {
   "cell_type": "markdown",
   "metadata": {},
   "source": [
    "# Fire up graphlab create"
   ]
  },
  {
   "cell_type": "markdown",
   "metadata": {},
   "source": [
    "Make sure you have the latest version of graphlab (>= 1.7)"
   ]
  },
  {
   "cell_type": "code",
   "execution_count": 5,
   "metadata": {
    "collapsed": false
   },
   "outputs": [],
   "source": [
    "import graphlab"
   ]
  },
  {
   "cell_type": "markdown",
   "metadata": {},
   "source": [
    "# Load in house sales data\n",
    "\n",
    "Dataset is from house sales in King County, the region where the city of Seattle, WA is located."
   ]
  },
  {
   "cell_type": "code",
   "execution_count": 7,
   "metadata": {
    "collapsed": false
   },
   "outputs": [],
   "source": [
    "sales = graphlab.SFrame('kc_house_data.gl/')\n",
    "# In the dataset, 'floors' was defined with type string, \n",
    "# so we'll convert them to int, before using it below\n",
    "sales['floors'] = sales['floors'].astype(int) "
   ]
  },
  {
   "cell_type": "markdown",
   "metadata": {},
   "source": [
    "If we want to do any \"feature engineering\" like creating new features or adjusting existing ones we should do this directly using the SFrames as seen in the first notebook of Week 2. For this notebook, however, we will work with the existing features."
   ]
  },
  {
   "cell_type": "markdown",
   "metadata": {},
   "source": [
    "# Import useful functions from previous notebook"
   ]
  },
  {
   "cell_type": "markdown",
   "metadata": {},
   "source": [
    "As in Week 2, we convert the SFrame into a 2D Numpy array. Copy and paste `get_num_data()` from the second notebook of Week 2."
   ]
  },
  {
   "cell_type": "code",
   "execution_count": 8,
   "metadata": {
    "collapsed": true
   },
   "outputs": [],
   "source": [
    "import numpy as np # note this allows us to refer to numpy as np instead "
   ]
  },
  {
   "cell_type": "code",
   "execution_count": 9,
   "metadata": {
    "collapsed": true
   },
   "outputs": [],
   "source": [
    "def get_numpy_data(data_sframe, features, output):\n",
    "    data_sframe['constant'] = 1 # this is how you add a constant column to an SFrame\n",
    "    # add the column 'constant' to the front of the features list so that we can extract it along with the others:\n",
    "    features = ['constant'] + features # this is how you combine two lists\n",
    "    # select the columns of data_SFrame given by the features list into the SFrame features_sframe (now including constant):\n",
    "    features_sframe = data_sframe[features]\n",
    "    \n",
    "    # the following line will convert the features_SFrame into a numpy matrix:\n",
    "    feature_matrix = features_sframe.to_numpy()\n",
    "    \n",
    "    # assign the column of data_sframe associated with the output to the SArray output_sarray\n",
    "    output_sarray =  data_sframe[output]\n",
    "    \n",
    "    # the following will convert the SArray into a numpy array by first converting it to a list\n",
    "    output_array = output_sarray.to_numpy()\n",
    "    return(feature_matrix, output_array)"
   ]
  },
  {
   "cell_type": "markdown",
   "metadata": {},
   "source": [
    "Also, copy and paste the `predict_output()` function to compute the predictions for an entire matrix of features given the matrix and the weights:"
   ]
  },
  {
   "cell_type": "code",
   "execution_count": 10,
   "metadata": {
    "collapsed": true
   },
   "outputs": [],
   "source": [
    "def predict_output(feature_matrix, weights):\n",
    "    # assume feature_matrix is a numpy matrix containing the features as columns and weights is a corresponding numpy array\n",
    "    # create the predictions vector by using np.dot()\n",
    "    pred = np.dot(feature_matrix, weights)\n",
    "    return(pred)"
   ]
  },
  {
   "cell_type": "markdown",
   "metadata": {},
   "source": [
    "# Normalize features\n",
    "In the house dataset, features vary wildly in their relative magnitude: `sqft_living` is very large overall compared to `bedrooms`, for instance. As a result, weight for `sqft_living` would be much smaller than weight for `bedrooms`. This is problematic because \"small\" weights are dropped first as `l1_penalty` goes up. \n",
    "\n",
    "To give equal considerations for all features, we need to **normalize features** as discussed in the lectures: we divide each feature by its 2-norm so that the transformed feature has norm 1.\n",
    "\n",
    "Let's see how we can do this normalization easily with Numpy: let us first consider a small matrix."
   ]
  },
  {
   "cell_type": "code",
   "execution_count": 11,
   "metadata": {
    "collapsed": false
   },
   "outputs": [
    {
     "name": "stdout",
     "output_type": "stream",
     "text": [
      "[[  3.   5.   8.]\n",
      " [  4.  12.  15.]]\n"
     ]
    }
   ],
   "source": [
    "X = np.array([[3.,5.,8.],[4.,12.,15.]])\n",
    "print X"
   ]
  },
  {
   "cell_type": "markdown",
   "metadata": {},
   "source": [
    "Numpy provides a shorthand for computing 2-norms of each column:"
   ]
  },
  {
   "cell_type": "code",
   "execution_count": 12,
   "metadata": {
    "collapsed": false
   },
   "outputs": [
    {
     "name": "stdout",
     "output_type": "stream",
     "text": [
      "[  5.  13.  17.]\n"
     ]
    }
   ],
   "source": [
    "norms = np.linalg.norm(X, axis=0) # gives [norm(X[:,0]), norm(X[:,1]), norm(X[:,2])]\n",
    "print norms"
   ]
  },
  {
   "cell_type": "markdown",
   "metadata": {},
   "source": [
    "To normalize, apply element-wise division:"
   ]
  },
  {
   "cell_type": "code",
   "execution_count": 13,
   "metadata": {
    "collapsed": false
   },
   "outputs": [
    {
     "name": "stdout",
     "output_type": "stream",
     "text": [
      "[[ 0.6         0.38461538  0.47058824]\n",
      " [ 0.8         0.92307692  0.88235294]]\n"
     ]
    }
   ],
   "source": [
    "print X / norms # gives [X[:,0]/norm(X[:,0]), X[:,1]/norm(X[:,1]), X[:,2]/norm(X[:,2])]"
   ]
  },
  {
   "cell_type": "markdown",
   "metadata": {},
   "source": [
    "Using the shorthand we just covered, write a short function called `normalize_features(feature_matrix)`, which normalizes columns of a given feature matrix. The function should return a pair `(normalized_features, norms)`, where the second item contains the norms of original features. As discussed in the lectures, we will use these norms to normalize the test data in the same way as we normalized the training data. "
   ]
  },
  {
   "cell_type": "code",
   "execution_count": 14,
   "metadata": {
    "collapsed": false
   },
   "outputs": [],
   "source": [
    "def normalize_features(feature_matrix):\n",
    "    norms = np.linalg.norm(feature_matrix, axis = 0)\n",
    "    features = feature_matrix/norms\n",
    "    return(features, norms)"
   ]
  },
  {
   "cell_type": "markdown",
   "metadata": {},
   "source": [
    "To test the function, run the following:"
   ]
  },
  {
   "cell_type": "code",
   "execution_count": 15,
   "metadata": {
    "collapsed": false
   },
   "outputs": [
    {
     "name": "stdout",
     "output_type": "stream",
     "text": [
      "[[ 0.6  0.6  0.6]\n",
      " [ 0.8  0.8  0.8]]\n",
      "[  5.  10.  15.]\n"
     ]
    }
   ],
   "source": [
    "features, norms = normalize_features(np.array([[3.,6.,9.],[4.,8.,12.]]))\n",
    "print features\n",
    "# should print\n",
    "# [[ 0.6  0.6  0.6]\n",
    "#  [ 0.8  0.8  0.8]]\n",
    "print norms\n",
    "# should print\n",
    "# [5.  10.  15.]"
   ]
  },
  {
   "cell_type": "markdown",
   "metadata": {},
   "source": [
    "# Implementing Coordinate Descent with normalized features"
   ]
  },
  {
   "cell_type": "markdown",
   "metadata": {},
   "source": [
    "We seek to obtain a sparse set of weights by minimizing the LASSO cost function\n",
    "```\n",
    "SUM[ (prediction - output)^2 ] + lambda*( |w[1]| + ... + |w[k]|).\n",
    "```\n",
    "(By convention, we do not include `w[0]` in the L1 penalty term. We never want to push the intercept to zero.)\n",
    "\n",
    "The absolute value sign makes the cost function non-differentiable, so simple gradient descent is not viable (you would need to implement a method called subgradient descent). Instead, we will use **coordinate descent**: at each iteration, we will fix all weights but weight `i` and find the value of weight `i` that minimizes the objective. That is, we look for\n",
    "```\n",
    "argmin_{w[i]} [ SUM[ (prediction - output)^2 ] + lambda*( |w[1]| + ... + |w[k]|) ]\n",
    "```\n",
    "where all weights other than `w[i]` are held to be constant. We will optimize one `w[i]` at a time, circling through the weights multiple times.  \n",
    "  1. Pick a coordinate `i`\n",
    "  2. Compute `w[i]` that minimizes the cost function `SUM[ (prediction - output)^2 ] + lambda*( |w[1]| + ... + |w[k]|)`\n",
    "  3. Repeat Steps 1 and 2 for all coordinates, multiple times"
   ]
  },
  {
   "cell_type": "markdown",
   "metadata": {},
   "source": [
    "For this notebook, we use **cyclical coordinate descent with normalized features**, where we cycle through coordinates 0 to (d-1) in order, and assume the features were normalized as discussed above. The formula for optimizing each coordinate is as follows:\n",
    "```\n",
    "       ┌ (ro[i] + lambda/2)     if ro[i] < -lambda/2\n",
    "w[i] = ├ 0                      if -lambda/2 <= ro[i] <= lambda/2\n",
    "       └ (ro[i] - lambda/2)     if ro[i] > lambda/2\n",
    "```\n",
    "where\n",
    "```\n",
    "ro[i] = SUM[ [feature_i]*(output - prediction + w[i]*[feature_i]) ].\n",
    "```\n",
    "\n",
    "Note that we do not regularize the weight of the constant feature (intercept) `w[0]`, so, for this weight, the update is simply:\n",
    "```\n",
    "w[0] = ro[i]\n",
    "```"
   ]
  },
  {
   "cell_type": "markdown",
   "metadata": {},
   "source": [
    "## Effect of L1 penalty"
   ]
  },
  {
   "cell_type": "markdown",
   "metadata": {},
   "source": [
    "Let us consider a simple model with 2 features:"
   ]
  },
  {
   "cell_type": "code",
   "execution_count": 16,
   "metadata": {
    "collapsed": true
   },
   "outputs": [],
   "source": [
    "simple_features = ['sqft_living', 'bedrooms']\n",
    "my_output = 'price'\n",
    "(simple_feature_matrix, output) = get_numpy_data(sales, simple_features, my_output)"
   ]
  },
  {
   "cell_type": "markdown",
   "metadata": {},
   "source": [
    "Don't forget to normalize features:"
   ]
  },
  {
   "cell_type": "code",
   "execution_count": 17,
   "metadata": {
    "collapsed": false
   },
   "outputs": [
    {
     "data": {
      "text/plain": [
       "array([[ 0.00680209,  0.00353021,  0.00583571],\n",
       "       [ 0.00680209,  0.00768869,  0.00583571],\n",
       "       [ 0.00680209,  0.00230361,  0.00389048],\n",
       "       ..., \n",
       "       [ 0.00680209,  0.00305154,  0.00389048],\n",
       "       [ 0.00680209,  0.00478673,  0.00583571],\n",
       "       [ 0.00680209,  0.00305154,  0.00389048]])"
      ]
     },
     "execution_count": 17,
     "metadata": {},
     "output_type": "execute_result"
    }
   ],
   "source": [
    "simple_feature_matrix, norms = normalize_features(simple_feature_matrix)\n",
    "simple_feature_matrix"
   ]
  },
  {
   "cell_type": "markdown",
   "metadata": {},
   "source": [
    "We assign some random set of initial weights and inspect the values of `ro[i]`:"
   ]
  },
  {
   "cell_type": "code",
   "execution_count": 18,
   "metadata": {
    "collapsed": false
   },
   "outputs": [],
   "source": [
    "weights = np.array([1., 4., 1.])"
   ]
  },
  {
   "cell_type": "markdown",
   "metadata": {},
   "source": [
    "Use `predict_output()` to make predictions on this data."
   ]
  },
  {
   "cell_type": "code",
   "execution_count": 19,
   "metadata": {
    "collapsed": false
   },
   "outputs": [
    {
     "data": {
      "text/plain": [
       "array([ 0.02675867,  0.04339256,  0.01990703, ...,  0.02289873,\n",
       "        0.03178473,  0.02289873])"
      ]
     },
     "execution_count": 19,
     "metadata": {},
     "output_type": "execute_result"
    }
   ],
   "source": [
    "prediction = predict_output(simple_feature_matrix, weights)\n",
    "prediction"
   ]
  },
  {
   "cell_type": "markdown",
   "metadata": {},
   "source": [
    "Compute the values of `ro[i]` for each feature in this simple model, using the formula given above, using the formula:\n",
    "```\n",
    "ro[i] = SUM[ [feature_i]*(output - prediction + w[i]*[feature_i]) ]\n",
    "```\n",
    "\n",
    "*Hint: You can get a Numpy vector for feature_i using:*\n",
    "```\n",
    "simple_feature_matrix[:,i]\n",
    "```"
   ]
  },
  {
   "cell_type": "code",
   "execution_count": 20,
   "metadata": {
    "collapsed": false
   },
   "outputs": [
    {
     "name": "stdout",
     "output_type": "stream",
     "text": [
      "[79400300.034929529]\n",
      "[79400300.034929529, 87939470.772990793]\n",
      "[79400300.034929529, 87939470.772990793, 80966698.67596525]\n"
     ]
    }
   ],
   "source": [
    "ro = []\n",
    "for i in range(len(weights)):\n",
    "    ro.append(sum(simple_feature_matrix[:, i]*(output - prediction + weights[i]*simple_feature_matrix[:,i])))\n",
    "    print ro"
   ]
  },
  {
   "cell_type": "markdown",
   "metadata": {},
   "source": [
    "***QUIZ QUESTION***\n",
    "\n",
    "Recall that, whenever `ro[i]` falls between `-l1_penalty/2` and `l1_penalty/2`, the corresponding weight `w[i]` is sent to zero. Now suppose we were to take one step of coordinate descent on either feature 1 or feature 2. What range of values of `l1_penalty` **would not** set `w[1]` zero, but **would** set `w[2]` to zero, if we were to take a step in that coordinate? "
   ]
  },
  {
   "cell_type": "code",
   "execution_count": 21,
   "metadata": {
    "collapsed": false
   },
   "outputs": [
    {
     "name": "stdout",
     "output_type": "stream",
     "text": [
      "175878941.546\n",
      "161933397.352\n"
     ]
    }
   ],
   "source": [
    "lam1 = ro[1]*2\n",
    "lam2 = ro[2]*2\n",
    "print lam1\n",
    "print lam2"
   ]
  },
  {
   "cell_type": "markdown",
   "metadata": {},
   "source": [
    "***QUIZ QUESTION***\n",
    "\n",
    "What range of values of `l1_penalty` would set **both** `w[1]` and `w[2]` to zero, if we were to take a step in that coordinate? "
   ]
  },
  {
   "cell_type": "code",
   "execution_count": null,
   "metadata": {
    "collapsed": false
   },
   "outputs": [],
   "source": []
  },
  {
   "cell_type": "markdown",
   "metadata": {},
   "source": [
    "So we can say that `ro[i]` quantifies the significance of the i-th feature: the larger `ro[i]` is, the more likely it is for the i-th feature to be retained."
   ]
  },
  {
   "cell_type": "markdown",
   "metadata": {},
   "source": [
    "## Single Coordinate Descent Step"
   ]
  },
  {
   "cell_type": "markdown",
   "metadata": {},
   "source": [
    "Using the formula above, implement coordinate descent that minimizes the cost function over a single feature i. Note that the intercept (weight 0) is not regularized. The function should accept feature matrix, output, current weights, l1 penalty, and index of feature to optimize over. The function should return new weight for feature i."
   ]
  },
  {
   "cell_type": "code",
   "execution_count": 22,
   "metadata": {
    "collapsed": true
   },
   "outputs": [],
   "source": [
    "def lasso_coordinate_descent_step(i, feature_matrix, output, weights, l1_penalty):\n",
    "    # compute prediction\n",
    "    prediction = np.dot(feature_matrix, weights)\n",
    "    # compute ro[i] = SUM[ [feature_i]*(output - prediction + weight[i]*[feature_i]) ]\n",
    "    ro_i = sum(feature_matrix[:,i]*(output - prediction + weights[i]*feature_matrix[:,i]))\n",
    "\n",
    "    if i == 0: # intercept -- do not regularize\n",
    "        new_weight_i = ro_i \n",
    "    elif ro_i < -l1_penalty/2.:\n",
    "        new_weight_i = ro_i + l1_penalty/2\n",
    "    elif ro_i > l1_penalty/2.:\n",
    "        new_weight_i = ro_i - l1_penalty/2\n",
    "    else:\n",
    "        new_weight_i = 0.\n",
    "    \n",
    "    return new_weight_i"
   ]
  },
  {
   "cell_type": "markdown",
   "metadata": {},
   "source": [
    "To test the function, run the following cell:"
   ]
  },
  {
   "cell_type": "code",
   "execution_count": 23,
   "metadata": {
    "collapsed": false
   },
   "outputs": [
    {
     "name": "stdout",
     "output_type": "stream",
     "text": [
      "0.425558846691\n"
     ]
    }
   ],
   "source": [
    "# should print 0.425558846691\n",
    "import math\n",
    "print lasso_coordinate_descent_step(1, np.array([[3./math.sqrt(13),1./math.sqrt(10)],[2./math.sqrt(13),3./math.sqrt(10)]]), \n",
    "                                   np.array([1., 1.]), np.array([1., 4.]), 0.1)"
   ]
  },
  {
   "cell_type": "markdown",
   "metadata": {
    "collapsed": true
   },
   "source": [
    "## Cyclical coordinate descent "
   ]
  },
  {
   "cell_type": "markdown",
   "metadata": {},
   "source": [
    "Now that we have a function that optimizes the cost function over a single coordinate, let us implement cyclical coordinate descent where we optimize coordinates 0, 1, ..., (d-1) in order and repeat.\n",
    "\n",
    "When do we know to stop? Each time we scan all the coordinates (features) once, we measure the change in weight for each coordinate. If no coordinate changes by more than a specified threshold, we stop."
   ]
  },
  {
   "cell_type": "markdown",
   "metadata": {},
   "source": [
    "For each iteration:\n",
    "1. As you loop over features in order and perform coordinate descent, measure how much each coordinate changes.\n",
    "2. After the loop, if the maximum change across all coordinates is falls below the tolerance, stop. Otherwise, go back to step 1.\n",
    "\n",
    "Return weights\n",
    "\n",
    "**IMPORTANT: when computing a new weight for coordinate i, make sure to incorporate the new weights for coordinates 0, 1, ..., i-1. One good way is to update your weights variable in-place. See following pseudocode for illustration.**\n",
    "```\n",
    "for i in range(len(weights)):\n",
    "    old_weights_i = weights[i] # remember old value of weight[i], as it will be overwritten\n",
    "    # the following line uses new values for weight[0], weight[1], ..., weight[i-1]\n",
    "    #     and old values for weight[i], ..., weight[d-1]\n",
    "    weights[i] = lasso_coordinate_descent_step(i, feature_matrix, output, weights, l1_penalty)\n",
    "    \n",
    "    # use old_weights_i to compute change in coordinate\n",
    "    ...\n",
    "```"
   ]
  },
  {
   "cell_type": "code",
   "execution_count": 24,
   "metadata": {
    "collapsed": false
   },
   "outputs": [],
   "source": [
    "def lasso_cyclical_coordinate_descent(feature_matrix, output, initial_weights, l1_penalty, tolerance):\n",
    "    weights = np.array(initial_weights)\n",
    "    converged = False\n",
    "    change = np.zeros(len(weights))\n",
    "    while not converged:\n",
    "        for i in range(len(weights)):\n",
    "            # print 'current weights: ', weights\n",
    "            old_weights_i = weights[i]\n",
    "            \n",
    "            weights[i] = lasso_coordinate_descent_step(i, feature_matrix, output, weights, l1_penalty)\n",
    "           \n",
    "            change[i] = abs(old_weights_i - weights[i]) \n",
    "        \n",
    "        max_change = max(change)\n",
    "        # print 'change: ', change\n",
    "        print \"Biggest change in coordinates is: \", max_change\n",
    "            \n",
    "        if max_change <= tolerance:\n",
    "            converged = True\n",
    "    return weights"
   ]
  },
  {
   "cell_type": "code",
   "execution_count": 25,
   "metadata": {
    "collapsed": false
   },
   "outputs": [
    {
     "data": {
      "text/plain": [
       "3"
      ]
     },
     "execution_count": 25,
     "metadata": {},
     "output_type": "execute_result"
    }
   ],
   "source": [
    "len(weights)"
   ]
  },
  {
   "cell_type": "markdown",
   "metadata": {},
   "source": [
    "Using the following parameters, learn the weights on the sales dataset. "
   ]
  },
  {
   "cell_type": "code",
   "execution_count": 26,
   "metadata": {
    "collapsed": false
   },
   "outputs": [],
   "source": [
    "simple_features = ['sqft_living', 'bedrooms']\n",
    "my_output = 'price'\n",
    "initial_weights = np.zeros(3)\n",
    "l1_penalty = 1e7\n",
    "tolerance = 1.0"
   ]
  },
  {
   "cell_type": "markdown",
   "metadata": {},
   "source": [
    "First create a normalized version of the feature matrix, `normalized_simple_feature_matrix`"
   ]
  },
  {
   "cell_type": "code",
   "execution_count": 27,
   "metadata": {
    "collapsed": true
   },
   "outputs": [],
   "source": [
    "(simple_feature_matrix, output) = get_numpy_data(sales, simple_features, my_output)\n",
    "(normalized_simple_feature_matrix, simple_norms) = normalize_features(simple_feature_matrix) # normalize features"
   ]
  },
  {
   "cell_type": "markdown",
   "metadata": {},
   "source": [
    "Then, run your implementation of LASSO coordinate descent:"
   ]
  },
  {
   "cell_type": "code",
   "execution_count": 28,
   "metadata": {
    "collapsed": false,
    "scrolled": true
   },
   "outputs": [
    {
     "name": "stdout",
     "output_type": "stream",
     "text": [
      "Biggest change in coordinates is:  79400304.6581\n",
      "Biggest change in coordinates is:  9138168.3665\n",
      "Biggest change in coordinates is:  8194809.40937\n",
      "Biggest change in coordinates is:  6598905.03827\n",
      "Biggest change in coordinates is:  5522173.1943\n",
      "Biggest change in coordinates is:  4621129.81031\n",
      "Biggest change in coordinates is:  3867108.10625\n",
      "Biggest change in coordinates is:  3236118.81061\n",
      "Biggest change in coordinates is:  2708086.93955\n",
      "Biggest change in coordinates is:  2266213.1094\n",
      "Biggest change in coordinates is:  1896439.06265\n",
      "Biggest change in coordinates is:  1587000.40319\n",
      "Biggest change in coordinates is:  1328052.31095\n",
      "Biggest change in coordinates is:  1111356.328\n",
      "Biggest change in coordinates is:  930018.251242\n",
      "Biggest change in coordinates is:  778268.79269\n",
      "Biggest change in coordinates is:  651280.029038\n",
      "Biggest change in coordinates is:  545011.800818\n",
      "Biggest change in coordinates is:  456083.174344\n",
      "Biggest change in coordinates is:  381664.876995\n",
      "Biggest change in coordinates is:  319389.283634\n",
      "Biggest change in coordinates is:  267275.090398\n",
      "Biggest change in coordinates is:  223664.279321\n",
      "Biggest change in coordinates is:  187169.368346\n",
      "Biggest change in coordinates is:  156629.268444\n",
      "Biggest change in coordinates is:  131072.343461\n",
      "Biggest change in coordinates is:  109685.497424\n",
      "Biggest change in coordinates is:  91788.3058113\n",
      "Biggest change in coordinates is:  76811.3677895\n",
      "Biggest change in coordinates is:  64278.1906643\n",
      "Biggest change in coordinates is:  53790.0302251\n",
      "Biggest change in coordinates is:  45013.2046615\n",
      "Biggest change in coordinates is:  37668.4784414\n",
      "Biggest change in coordinates is:  31522.1784091\n",
      "Biggest change in coordinates is:  26378.7594499\n",
      "Biggest change in coordinates is:  22074.5832049\n",
      "Biggest change in coordinates is:  18472.7119038\n",
      "Biggest change in coordinates is:  15458.5516703\n",
      "Biggest change in coordinates is:  12936.2067127\n",
      "Biggest change in coordinates is:  10825.4283905\n",
      "Biggest change in coordinates is:  9059.06209136\n",
      "Biggest change in coordinates is:  7580.9107045\n",
      "Biggest change in coordinates is:  6343.94670663\n",
      "Biggest change in coordinates is:  5308.81596889\n",
      "Biggest change in coordinates is:  4442.58571232\n",
      "Biggest change in coordinates is:  3717.69673751\n",
      "Biggest change in coordinates is:  3111.08663527\n",
      "Biggest change in coordinates is:  2603.45604615\n",
      "Biggest change in coordinates is:  2178.65465657\n",
      "Biggest change in coordinates is:  1823.16737067\n",
      "Biggest change in coordinates is:  1525.68432574\n",
      "Biggest change in coordinates is:  1276.74107022\n",
      "Biggest change in coordinates is:  1068.41745321\n",
      "Biggest change in coordinates is:  894.085637826\n",
      "Biggest change in coordinates is:  748.199241284\n",
      "Biggest change in coordinates is:  626.116874021\n",
      "Biggest change in coordinates is:  523.954474069\n",
      "Biggest change in coordinates is:  438.461734854\n",
      "Biggest change in coordinates is:  366.918696988\n",
      "Biggest change in coordinates is:  307.049212329\n",
      "Biggest change in coordinates is:  256.948526956\n",
      "Biggest change in coordinates is:  215.022683393\n",
      "Biggest change in coordinates is:  179.937806476\n",
      "Biggest change in coordinates is:  150.577667989\n",
      "Biggest change in coordinates is:  126.008171935\n",
      "Biggest change in coordinates is:  105.447637692\n",
      "Biggest change in coordinates is:  88.241930183\n",
      "Biggest change in coordinates is:  73.843647901\n",
      "Biggest change in coordinates is:  61.794709526\n",
      "Biggest change in coordinates is:  51.7117739618\n",
      "Biggest change in coordinates is:  43.2740534991\n",
      "Biggest change in coordinates is:  36.2131019011\n",
      "Biggest change in coordinates is:  30.3042732552\n",
      "Biggest change in coordinates is:  25.359577965\n",
      "Biggest change in coordinates is:  21.2216995582\n",
      "Biggest change in coordinates is:  17.7589916587\n",
      "Biggest change in coordinates is:  14.8612884693\n",
      "Biggest change in coordinates is:  12.4363974072\n",
      "Biggest change in coordinates is:  10.4071723744\n",
      "Biggest change in coordinates is:  8.7090517506\n",
      "Biggest change in coordinates is:  7.28801103681\n",
      "Biggest change in coordinates is:  6.0988387987\n",
      "Biggest change in coordinates is:  5.10370242968\n",
      "Biggest change in coordinates is:  4.27093991637\n",
      "Biggest change in coordinates is:  3.57405826449\n",
      "Biggest change in coordinates is:  2.99088549614\n",
      "Biggest change in coordinates is:  2.50286720321\n",
      "Biggest change in coordinates is:  2.09447904676\n",
      "Biggest change in coordinates is:  1.75272624195\n",
      "Biggest change in coordinates is:  1.46673727036\n",
      "Biggest change in coordinates is:  1.22741236165\n",
      "Biggest change in coordinates is:  1.02713750303\n",
      "Biggest change in coordinates is:  0.859541006386\n",
      "[ 21624998.36636352  63157246.78545319         0.        ]\n"
     ]
    },
    {
     "data": {
      "text/plain": [
       "1630492481484499.5"
      ]
     },
     "execution_count": 28,
     "metadata": {},
     "output_type": "execute_result"
    }
   ],
   "source": [
    "weights = lasso_cyclical_coordinate_descent(normalized_simple_feature_matrix, output,\n",
    "                                            initial_weights, l1_penalty, tolerance)\n",
    "print weights\n",
    "sum((np.dot(normalized_simple_feature_matrix, weights) - output)**2)"
   ]
  },
  {
   "cell_type": "markdown",
   "metadata": {},
   "source": [
    "***QUIZ QUESTIONS***\n",
    "1. What is the RSS of the learned model on the normalized dataset?\n",
    "2. Which features had weight zero at convergence?"
   ]
  },
  {
   "cell_type": "markdown",
   "metadata": {},
   "source": [
    "# Evaluating LASSO fit with more features"
   ]
  },
  {
   "cell_type": "markdown",
   "metadata": {},
   "source": [
    "Let us split the sales dataset into training and test sets."
   ]
  },
  {
   "cell_type": "code",
   "execution_count": 45,
   "metadata": {
    "collapsed": true
   },
   "outputs": [],
   "source": [
    "train_data,test_data = sales.random_split(.8,seed=0)"
   ]
  },
  {
   "cell_type": "markdown",
   "metadata": {},
   "source": [
    "Let us consider the following set of features."
   ]
  },
  {
   "cell_type": "code",
   "execution_count": 31,
   "metadata": {
    "collapsed": true
   },
   "outputs": [],
   "source": [
    "all_features = ['bedrooms',\n",
    "                'bathrooms',\n",
    "                'sqft_living',\n",
    "                'sqft_lot',\n",
    "                'floors',\n",
    "                'waterfront', \n",
    "                'view', \n",
    "                'condition', \n",
    "                'grade',\n",
    "                'sqft_above',\n",
    "                'sqft_basement',\n",
    "                'yr_built', \n",
    "                'yr_renovated']"
   ]
  },
  {
   "cell_type": "markdown",
   "metadata": {},
   "source": [
    "First, create a normalized feature matrix from the TRAINING data with these features.  (Make you store the norms for the normalization, since we'll use them later)"
   ]
  },
  {
   "cell_type": "code",
   "execution_count": 32,
   "metadata": {
    "collapsed": false
   },
   "outputs": [],
   "source": [
    "(feature_matrix, output) = get_numpy_data(train_data, all_features, my_output)\n",
    "(normalized_feature_matrix, norms) = normalize_features(feature_matrix) # normalize features\n"
   ]
  },
  {
   "cell_type": "markdown",
   "metadata": {},
   "source": [
    "First, learn the weights with `l1_penalty=1e7`, on the training data. Initialize weights to all zeros, and set the `tolerance=1`.  Call resulting weights `weights1e7`, you will need them later."
   ]
  },
  {
   "cell_type": "code",
   "execution_count": 33,
   "metadata": {
    "collapsed": false,
    "scrolled": true
   },
   "outputs": [
    {
     "name": "stdout",
     "output_type": "stream",
     "text": [
      "Biggest change in coordinates is:  71114625.7528\n",
      "Biggest change in coordinates is:  5024356.36869\n",
      "Biggest change in coordinates is:  5012324.91395\n",
      "Biggest change in coordinates is:  5000676.42086\n",
      "Biggest change in coordinates is:  4991243.17314\n",
      "Biggest change in coordinates is:  4984361.34335\n",
      "Biggest change in coordinates is:  4979504.92921\n",
      "Biggest change in coordinates is:  4973806.56526\n",
      "Biggest change in coordinates is:  2879222.99938\n",
      "Biggest change in coordinates is:  2706150.76622\n",
      "Biggest change in coordinates is:  2532295.64864\n",
      "Biggest change in coordinates is:  2368316.57782\n",
      "Biggest change in coordinates is:  2213124.35067\n",
      "Biggest change in coordinates is:  1552443.60013\n",
      "Biggest change in coordinates is:  507838.033159\n",
      "Biggest change in coordinates is:  438814.370591\n",
      "Biggest change in coordinates is:  371479.622608\n",
      "Biggest change in coordinates is:  313415.105581\n",
      "Biggest change in coordinates is:  264244.832139\n",
      "Biggest change in coordinates is:  222753.8608\n",
      "Biggest change in coordinates is:  187770.667306\n",
      "Biggest change in coordinates is:  158280.093357\n",
      "Biggest change in coordinates is:  133420.901606\n",
      "Biggest change in coordinates is:  112465.988296\n",
      "Biggest change in coordinates is:  94802.2134517\n",
      "Biggest change in coordinates is:  79912.6874507\n",
      "Biggest change in coordinates is:  67361.6926196\n",
      "Biggest change in coordinates is:  56781.9424917\n",
      "Biggest change in coordinates is:  47863.8357519\n",
      "Biggest change in coordinates is:  40346.3966198\n",
      "Biggest change in coordinates is:  34009.6378516\n",
      "Biggest change in coordinates is:  28668.1231467\n",
      "Biggest change in coordinates is:  24165.540613\n",
      "Biggest change in coordinates is:  20370.1285269\n",
      "Biggest change in coordinates is:  17170.8195086\n",
      "Biggest change in coordinates is:  14473.9902948\n",
      "Biggest change in coordinates is:  12200.721984\n",
      "Biggest change in coordinates is:  10284.4905858\n",
      "Biggest change in coordinates is:  8669.22029226\n",
      "Biggest change in coordinates is:  7307.64249876\n",
      "Biggest change in coordinates is:  6159.91255131\n",
      "Biggest change in coordinates is:  5192.44375229\n",
      "Biggest change in coordinates is:  4376.92449275\n",
      "Biggest change in coordinates is:  3689.48975372\n",
      "Biggest change in coordinates is:  3110.0227253\n",
      "Biggest change in coordinates is:  2621.56612379\n",
      "Biggest change in coordinates is:  2209.82595591\n",
      "Biggest change in coordinates is:  1862.75322656\n",
      "Biggest change in coordinates is:  1570.19134186\n",
      "Biggest change in coordinates is:  1323.57889069\n",
      "Biggest change in coordinates is:  1115.69910869\n",
      "Biggest change in coordinates is:  940.468686525\n",
      "Biggest change in coordinates is:  792.759753313\n",
      "Biggest change in coordinates is:  668.249816127\n",
      "Biggest change in coordinates is:  563.295266699\n",
      "Biggest change in coordinates is:  474.824758362\n",
      "Biggest change in coordinates is:  400.249326281\n",
      "Biggest change in coordinates is:  337.386626657\n",
      "Biggest change in coordinates is:  284.397069555\n",
      "Biggest change in coordinates is:  239.729992516\n",
      "Biggest change in coordinates is:  202.078274794\n",
      "Biggest change in coordinates is:  170.340092685\n",
      "Biggest change in coordinates is:  143.586673424\n",
      "Biggest change in coordinates is:  121.035114866\n",
      "Biggest change in coordinates is:  102.025478777\n",
      "Biggest change in coordinates is:  86.0014741011\n",
      "Biggest change in coordinates is:  72.494181253\n",
      "Biggest change in coordinates is:  61.1083279289\n",
      "Biggest change in coordinates is:  51.5107243657\n",
      "Biggest change in coordinates is:  43.4205089137\n",
      "Biggest change in coordinates is:  36.6009336673\n",
      "Biggest change in coordinates is:  30.8524328545\n",
      "Biggest change in coordinates is:  26.0067854188\n",
      "Biggest change in coordinates is:  21.9221893623\n",
      "Biggest change in coordinates is:  18.4791155905\n",
      "Biggest change in coordinates is:  15.5768073164\n",
      "Biggest change in coordinates is:  13.1303316727\n",
      "Biggest change in coordinates is:  11.0680963434\n",
      "Biggest change in coordinates is:  9.32975419611\n",
      "Biggest change in coordinates is:  7.86443347111\n",
      "Biggest change in coordinates is:  6.62925465405\n",
      "Biggest change in coordinates is:  5.58807149157\n",
      "Biggest change in coordinates is:  4.71041546017\n",
      "Biggest change in coordinates is:  3.97060324252\n",
      "Biggest change in coordinates is:  3.34698478132\n",
      "Biggest change in coordinates is:  2.82131080329\n",
      "Biggest change in coordinates is:  2.37819923088\n",
      "Biggest change in coordinates is:  2.0046817027\n",
      "Biggest change in coordinates is:  1.68982895091\n",
      "Biggest change in coordinates is:  1.42442622781\n",
      "Biggest change in coordinates is:  1.20070753247\n",
      "Biggest change in coordinates is:  1.01212578267\n",
      "Biggest change in coordinates is:  0.853162374347\n",
      "[ 24429600.60933346         0.                 0.          48389174.35227959\n",
      "         0.                 0.           3317511.16271979\n",
      "   7329961.98489638         0.                 0.                 0.\n",
      "         0.                 0.                 0.        ]\n"
     ]
    }
   ],
   "source": [
    "initial_weights = np.zeros(14)\n",
    "weights1e7 = lasso_cyclical_coordinate_descent(normalized_feature_matrix, output,\n",
    "                                            initial_weights, 1e7, tolerance)\n",
    "print weights1e7"
   ]
  },
  {
   "cell_type": "code",
   "execution_count": 34,
   "metadata": {
    "collapsed": false
   },
   "outputs": [
    {
     "data": {
      "text/plain": [
       "array(['sqft_living', 'waterfront', 'view'], \n",
       "      dtype='|S13')"
      ]
     },
     "execution_count": 34,
     "metadata": {},
     "output_type": "execute_result"
    }
   ],
   "source": [
    "all_features = np.array(all_features)\n",
    "all_features[weights1e7[1:14] != 0]"
   ]
  },
  {
   "cell_type": "markdown",
   "metadata": {},
   "source": [
    "***QUIZ QUESTION***\n",
    "\n",
    "What features had non-zero weight in this case?"
   ]
  },
  {
   "cell_type": "markdown",
   "metadata": {
    "collapsed": true
   },
   "source": [
    "Next, learn the weights with `l1_penalty=1e8`, on the training data. Initialize weights to all zeros, and set the `tolerance=1`.  Call resulting weights `weights1e8`, you will need them later."
   ]
  },
  {
   "cell_type": "code",
   "execution_count": 35,
   "metadata": {
    "collapsed": false,
    "scrolled": true
   },
   "outputs": [
    {
     "name": "stdout",
     "output_type": "stream",
     "text": [
      "Biggest change in coordinates is:  71114625.7528\n",
      "Biggest change in coordinates is:  0.0\n",
      "[ 71114625.75280942         0.                 0.                 0.\n",
      "         0.                 0.                 0.                 0.\n",
      "         0.                 0.                 0.                 0.\n",
      "         0.                 0.        ]\n"
     ]
    }
   ],
   "source": [
    "initial_weights = np.zeros(14)\n",
    "weights1e8 = lasso_cyclical_coordinate_descent(normalized_feature_matrix, output,\n",
    "                                            initial_weights, 1e8, tolerance)\n",
    "print weights1e8"
   ]
  },
  {
   "cell_type": "code",
   "execution_count": 36,
   "metadata": {
    "collapsed": false
   },
   "outputs": [
    {
     "data": {
      "text/plain": [
       "array([], \n",
       "      dtype='|S13')"
      ]
     },
     "execution_count": 36,
     "metadata": {},
     "output_type": "execute_result"
    }
   ],
   "source": [
    "all_features = np.array(all_features)\n",
    "all_features[weights1e8[1:14] != 0]"
   ]
  },
  {
   "cell_type": "code",
   "execution_count": null,
   "metadata": {
    "collapsed": true
   },
   "outputs": [],
   "source": []
  },
  {
   "cell_type": "markdown",
   "metadata": {},
   "source": [
    "***QUIZ QUESTION***\n",
    "\n",
    "What features had non-zero weight in this case?"
   ]
  },
  {
   "cell_type": "markdown",
   "metadata": {},
   "source": [
    "Finally, learn the weights with `l1_penalty=1e4`, on the training data. Initialize weights to all zeros, and set the `tolerance=5e5`.  Call resulting weights `weights1e4`, you will need them later.  (This case will take quite a bit longer to converge than the others above.)"
   ]
  },
  {
   "cell_type": "code",
   "execution_count": null,
   "metadata": {
    "collapsed": false
   },
   "outputs": [
    {
     "name": "stdout",
     "output_type": "stream",
     "text": [
      "Biggest change in coordinates is:  71114625.7528\n",
      "Biggest change in coordinates is:  8464015.94738\n",
      "Biggest change in coordinates is:  6818451.35869\n",
      "Biggest change in coordinates is:  5570165.21901\n",
      "Biggest change in coordinates is:  4559838.46759\n",
      "Biggest change in coordinates is:  3732056.69715\n",
      "Biggest change in coordinates is:  3053211.61353\n",
      "Biggest change in coordinates is:  2497517.43558\n",
      "Biggest change in coordinates is:  2043868.97325\n",
      "Biggest change in coordinates is:  1674717.70906\n",
      "Biggest change in coordinates is:  1375420.75692\n",
      "Biggest change in coordinates is:  1296621.8143\n",
      "Biggest change in coordinates is:  1257340.9361\n",
      "Biggest change in coordinates is:  1228271.24819\n",
      "Biggest change in coordinates is:  1206854.36471\n",
      "Biggest change in coordinates is:  1191059.40598\n",
      "Biggest change in coordinates is:  1179030.77018\n",
      "Biggest change in coordinates is:  1169777.43345\n",
      "Biggest change in coordinates is:  1162340.67589\n",
      "Biggest change in coordinates is:  1155980.52901\n",
      "Biggest change in coordinates is:  1150139.67966\n",
      "Biggest change in coordinates is:  1144406.32752\n",
      "Biggest change in coordinates is:  1138483.91805\n",
      "Biggest change in coordinates is:  1132166.57169\n",
      "Biggest change in coordinates is:  1125319.16778\n",
      "Biggest change in coordinates is:  1117861.24888\n",
      "Biggest change in coordinates is:  1109754.06282\n",
      "Biggest change in coordinates is:  1100990.17907\n",
      "Biggest change in coordinates is:  1091585.21244\n",
      "Biggest change in coordinates is:  1081571.26761\n",
      "Biggest change in coordinates is:  1070991.78405\n",
      "Biggest change in coordinates is:  1059897.51701\n",
      "Biggest change in coordinates is:  1048343.43631\n",
      "Biggest change in coordinates is:  1036386.3636\n",
      "Biggest change in coordinates is:  1024083.20068\n",
      "Biggest change in coordinates is:  1011489.62847\n",
      "Biggest change in coordinates is:  998659.178392\n",
      "Biggest change in coordinates is:  985642.596017\n",
      "Biggest change in coordinates is:  972487.432403\n",
      "Biggest change in coordinates is:  959237.810727\n",
      "Biggest change in coordinates is:  945934.326266\n",
      "Biggest change in coordinates is:  932614.046117\n",
      "Biggest change in coordinates is:  919310.581988\n",
      "Biggest change in coordinates is:  906054.214956\n",
      "Biggest change in coordinates is:  892872.055697\n",
      "Biggest change in coordinates is:  879109.302243\n",
      "Biggest change in coordinates is:  866038.266742\n",
      "Biggest change in coordinates is:  853191.449429\n",
      "Biggest change in coordinates is:  840521.781012\n",
      "Biggest change in coordinates is:  828028.403962\n",
      "Biggest change in coordinates is:  815717.920819\n",
      "Biggest change in coordinates is:  803598.206379\n",
      "Biggest change in coordinates is:  791676.769693\n",
      "Biggest change in coordinates is:  779960.222855\n",
      "Biggest change in coordinates is:  768454.139376\n",
      "Biggest change in coordinates is:  757163.05916\n",
      "Biggest change in coordinates is:  746090.546302\n",
      "Biggest change in coordinates is:  735239.263812\n",
      "Biggest change in coordinates is:  724611.051693\n",
      "Biggest change in coordinates is:  714002.910141\n",
      "Biggest change in coordinates is:  703393.002342\n",
      "Biggest change in coordinates is:  693038.299304\n",
      "Biggest change in coordinates is:  682960.589207\n",
      "Biggest change in coordinates is:  673155.135299\n",
      "Biggest change in coordinates is:  663513.600594\n",
      "Biggest change in coordinates is:  654148.681361\n",
      "Biggest change in coordinates is:  645045.446051\n",
      "Biggest change in coordinates is:  636191.878813\n",
      "Biggest change in coordinates is:  627577.229773\n",
      "Biggest change in coordinates is:  619191.96692\n",
      "Biggest change in coordinates is:  611027.657019\n",
      "Biggest change in coordinates is:  603076.796131\n",
      "Biggest change in coordinates is:  595332.640574\n",
      "Biggest change in coordinates is:  587789.058274\n",
      "Biggest change in coordinates is:  580440.404721\n",
      "Biggest change in coordinates is:  573281.422008\n",
      "Biggest change in coordinates is:  566307.157817\n",
      "Biggest change in coordinates is:  559512.901092\n",
      "Biggest change in coordinates is:  552894.131447\n",
      "Biggest change in coordinates is:  546446.479774\n",
      "Biggest change in coordinates is:  540165.697951\n",
      "Biggest change in coordinates is:  534047.635851\n",
      "Biggest change in coordinates is:  528088.224233\n",
      "Biggest change in coordinates is:  522283.462294\n",
      "Biggest change in coordinates is:  516629.408908\n",
      "Biggest change in coordinates is:  511122.176757\n",
      "Biggest change in coordinates is:  505757.928683\n",
      "Biggest change in coordinates is:  500532.875758\n",
      "Biggest change in coordinates is:  495443.276635\n",
      "Biggest change in coordinates is:  490485.437819\n",
      "Biggest change in coordinates is:  485655.714629\n",
      "Biggest change in coordinates is:  480950.51259\n",
      "Biggest change in coordinates is:  476366.289115\n",
      "Biggest change in coordinates is:  471899.555337\n",
      "Biggest change in coordinates is:  467546.877982\n",
      "Biggest change in coordinates is:  463304.881226\n",
      "Biggest change in coordinates is:  459170.248455\n",
      "Biggest change in coordinates is:  455139.72391\n",
      "Biggest change in coordinates is:  451210.114174\n",
      "Biggest change in coordinates is:  447378.289492\n",
      "Biggest change in coordinates is:  443641.184903\n",
      "Biggest change in coordinates is:  439995.801203\n",
      "Biggest change in coordinates is:  436439.205703\n",
      "Biggest change in coordinates is:  432968.532821\n",
      "Biggest change in coordinates is:  429580.984492\n",
      "Biggest change in coordinates is:  426273.830419\n",
      "Biggest change in coordinates is:  425195.718741\n",
      "Biggest change in coordinates is:  424387.018053\n",
      "Biggest change in coordinates is:  423554.845197\n",
      "Biggest change in coordinates is:  422700.206827\n",
      "Biggest change in coordinates is:  421824.08243\n",
      "Biggest change in coordinates is:  420927.424633\n",
      "Biggest change in coordinates is:  420011.159546\n",
      "Biggest change in coordinates is:  419076.187131\n",
      "Biggest change in coordinates is:  418123.381583\n",
      "Biggest change in coordinates is:  417153.591737\n",
      "Biggest change in coordinates is:  416167.641487\n",
      "Biggest change in coordinates is:  415166.330204\n",
      "Biggest change in coordinates is:  414150.433178\n",
      "Biggest change in coordinates is:  413120.70205\n",
      "Biggest change in coordinates is:  412077.865264\n",
      "Biggest change in coordinates is:  411022.628511\n",
      "Biggest change in coordinates is:  409955.67518\n",
      "Biggest change in coordinates is:  408877.666814\n",
      "Biggest change in coordinates is:  407789.243561\n",
      "Biggest change in coordinates is:  406691.02463\n",
      "Biggest change in coordinates is:  405583.608747\n",
      "Biggest change in coordinates is:  404467.574608\n",
      "Biggest change in coordinates is:  403343.481329\n",
      "Biggest change in coordinates is:  402211.868906\n",
      "Biggest change in coordinates is:  401073.258654\n",
      "Biggest change in coordinates is:  399928.153666\n",
      "Biggest change in coordinates is:  398777.039248\n",
      "Biggest change in coordinates is:  397620.38337\n",
      "Biggest change in coordinates is:  396458.637091\n",
      "Biggest change in coordinates is:  395292.235008\n",
      "Biggest change in coordinates is:  394121.595681\n",
      "Biggest change in coordinates is:  392947.122052\n",
      "Biggest change in coordinates is:  391769.20188\n",
      "Biggest change in coordinates is:  390588.208144\n",
      "Biggest change in coordinates is:  389404.499463\n",
      "Biggest change in coordinates is:  388218.420495\n",
      "Biggest change in coordinates is:  387030.302345\n",
      "Biggest change in coordinates is:  385840.462947\n",
      "Biggest change in coordinates is:  384649.207464\n",
      "Biggest change in coordinates is:  383456.828661\n",
      "Biggest change in coordinates is:  382263.607282\n",
      "Biggest change in coordinates is:  381069.812417\n",
      "Biggest change in coordinates is:  379875.701867\n",
      "Biggest change in coordinates is:  378681.522496\n",
      "Biggest change in coordinates is:  377487.510577\n",
      "Biggest change in coordinates is:  376293.892134\n",
      "Biggest change in coordinates is:  375100.883275\n",
      "Biggest change in coordinates is:  373908.69052\n",
      "Biggest change in coordinates is:  372717.511117\n",
      "Biggest change in coordinates is:  371527.533354\n",
      "Biggest change in coordinates is:  370338.936867\n",
      "Biggest change in coordinates is:  369151.892934\n",
      "Biggest change in coordinates is:  367966.564764\n",
      "Biggest change in coordinates is:  366783.107784\n",
      "Biggest change in coordinates is:  365601.669912\n",
      "Biggest change in coordinates is:  364422.391829\n",
      "Biggest change in coordinates is:  363245.407232\n",
      "Biggest change in coordinates is:  362070.8431\n",
      "Biggest change in coordinates is:  360898.819934\n",
      "Biggest change in coordinates is:  359729.451999\n",
      "Biggest change in coordinates is:  358562.847562\n",
      "Biggest change in coordinates is:  357399.109114\n",
      "Biggest change in coordinates is:  356238.333599\n",
      "Biggest change in coordinates is:  355080.612616\n",
      "Biggest change in coordinates is:  353926.032637\n",
      "Biggest change in coordinates is:  352774.675206\n",
      "Biggest change in coordinates is:  351626.617135\n",
      "Biggest change in coordinates is:  350481.93069\n",
      "Biggest change in coordinates is:  349340.683778\n",
      "Biggest change in coordinates is:  348202.940129\n",
      "Biggest change in coordinates is:  347068.759453\n",
      "Biggest change in coordinates is:  345938.197625\n",
      "Biggest change in coordinates is:  344811.306833\n",
      "Biggest change in coordinates is:  343688.135739\n",
      "Biggest change in coordinates is:  342568.729627\n",
      "Biggest change in coordinates is:  341453.13055\n",
      "Biggest change in coordinates is:  340341.377469\n",
      "Biggest change in coordinates is:  339233.506389\n",
      "Biggest change in coordinates is:  338129.550489\n",
      "Biggest change in coordinates is:  337029.540248\n",
      "Biggest change in coordinates is:  335933.503568\n",
      "Biggest change in coordinates is:  334841.465889\n",
      "Biggest change in coordinates is:  333753.450301\n",
      "Biggest change in coordinates is:  332669.477656\n",
      "Biggest change in coordinates is:  331589.566671\n",
      "Biggest change in coordinates is:  330513.734027\n",
      "Biggest change in coordinates is:  329441.99447\n",
      "Biggest change in coordinates is:  328374.360896\n",
      "Biggest change in coordinates is:  327310.844451\n",
      "Biggest change in coordinates is:  326251.454612\n",
      "Biggest change in coordinates is:  325196.199264\n",
      "Biggest change in coordinates is:  324145.084793\n",
      "Biggest change in coordinates is:  323098.116149\n",
      "Biggest change in coordinates is:  322055.296927\n",
      "Biggest change in coordinates is:  321016.629432\n",
      "Biggest change in coordinates is:  319982.114753\n",
      "Biggest change in coordinates is:  318951.75282\n",
      "Biggest change in coordinates is:  317925.542474\n",
      "Biggest change in coordinates is:  316903.481515\n",
      "Biggest change in coordinates is:  315885.566772\n",
      "Biggest change in coordinates is:  314871.794147\n",
      "Biggest change in coordinates is:  313862.158673\n",
      "Biggest change in coordinates is:  312856.65456\n",
      "Biggest change in coordinates is:  311855.275242\n",
      "Biggest change in coordinates is:  310858.013431\n",
      "Biggest change in coordinates is:  309864.861147\n",
      "Biggest change in coordinates is:  308875.80977\n",
      "Biggest change in coordinates is:  307890.850076\n",
      "Biggest change in coordinates is:  306909.972272\n",
      "Biggest change in coordinates is:  305933.166037\n",
      "Biggest change in coordinates is:  304960.420553\n",
      "Biggest change in coordinates is:  303991.72454\n",
      "Biggest change in coordinates is:  303027.066285\n",
      "Biggest change in coordinates is:  302066.433672\n",
      "Biggest change in coordinates is:  301109.814213\n",
      "Biggest change in coordinates is:  300157.19507\n",
      "Biggest change in coordinates is:  299208.563086\n",
      "Biggest change in coordinates is:  298263.904805\n",
      "Biggest change in coordinates is:  297323.206496\n",
      "Biggest change in coordinates is:  296386.454179\n",
      "Biggest change in coordinates is:  295453.633638\n",
      "Biggest change in coordinates is:  294524.730449\n",
      "Biggest change in coordinates is:  293599.729992\n",
      "Biggest change in coordinates is:  292678.617472\n",
      "Biggest change in coordinates is:  291761.377938\n",
      "Biggest change in coordinates is:  290847.996295\n",
      "Biggest change in coordinates is:  289938.457316\n",
      "Biggest change in coordinates is:  289032.745664\n",
      "Biggest change in coordinates is:  288130.845904\n",
      "Biggest change in coordinates is:  287232.742511\n",
      "Biggest change in coordinates is:  286338.419881\n",
      "Biggest change in coordinates is:  285447.862352\n",
      "Biggest change in coordinates is:  284561.054202\n",
      "Biggest change in coordinates is:  283677.979671\n",
      "Biggest change in coordinates is:  282798.622957\n",
      "Biggest change in coordinates is:  281922.96824\n",
      "Biggest change in coordinates is:  281050.999679\n",
      "Biggest change in coordinates is:  280182.701424\n",
      "Biggest change in coordinates is:  279318.05762\n",
      "Biggest change in coordinates is:  278457.052418\n",
      "Biggest change in coordinates is:  277599.66998\n",
      "Biggest change in coordinates is:  276745.894485\n",
      "Biggest change in coordinates is:  275895.710133\n",
      "Biggest change in coordinates is:  275049.10115\n",
      "Biggest change in coordinates is:  274206.051797\n",
      "Biggest change in coordinates is:  273366.546368\n",
      "Biggest change in coordinates is:  272530.5692\n",
      "Biggest change in coordinates is:  271698.104672\n",
      "Biggest change in coordinates is:  270869.137214\n",
      "Biggest change in coordinates is:  270043.651304\n",
      "Biggest change in coordinates is:  269221.631474\n",
      "Biggest change in coordinates is:  268403.062315\n",
      "Biggest change in coordinates is:  267587.928476\n",
      "Biggest change in coordinates is:  266776.214664\n",
      "Biggest change in coordinates is:  265967.905657\n",
      "Biggest change in coordinates is:  265162.986291\n",
      "Biggest change in coordinates is:  264361.441473\n",
      "Biggest change in coordinates is:  263563.256177\n",
      "Biggest change in coordinates is:  262768.415447\n",
      "Biggest change in coordinates is:  261976.904402\n",
      "Biggest change in coordinates is:  261188.708224\n",
      "Biggest change in coordinates is:  260403.812178\n",
      "Biggest change in coordinates is:  259622.201596\n",
      "Biggest change in coordinates is:  258843.86189\n",
      "Biggest change in coordinates is:  258068.778539\n",
      "Biggest change in coordinates is:  257296.937106\n",
      "Biggest change in coordinates is:  256528.323225\n",
      "Biggest change in coordinates is:  255762.922608\n",
      "Biggest change in coordinates is:  255000.721042\n",
      "Biggest change in coordinates is:  254241.704392\n",
      "Biggest change in coordinates is:  253485.858595\n",
      "Biggest change in coordinates is:  252733.169672\n",
      "Biggest change in coordinates is:  251983.623715\n",
      "Biggest change in coordinates is:  251237.206892\n",
      "Biggest change in coordinates is:  250493.905449\n",
      "Biggest change in coordinates is:  249753.705703\n",
      "Biggest change in coordinates is:  249016.594057\n",
      "Biggest change in coordinates is:  248282.556978\n",
      "Biggest change in coordinates is:  247551.581012\n",
      "Biggest change in coordinates is:  246823.652779\n",
      "Biggest change in coordinates is:  246098.758973\n",
      "Biggest change in coordinates is:  245376.88636\n",
      "Biggest change in coordinates is:  244658.021781\n",
      "Biggest change in coordinates is:  243942.152148\n",
      "Biggest change in coordinates is:  243229.264444\n",
      "Biggest change in coordinates is:  242519.345726\n",
      "Biggest change in coordinates is:  241812.383118\n",
      "Biggest change in coordinates is:  241108.363816\n",
      "Biggest change in coordinates is:  240407.275087\n",
      "Biggest change in coordinates is:  239709.104261\n",
      "Biggest change in coordinates is:  239013.838744\n",
      "Biggest change in coordinates is:  238321.466004\n",
      "Biggest change in coordinates is:  237631.973578\n",
      "Biggest change in coordinates is:  236945.349071\n",
      "Biggest change in coordinates is:  236261.580151\n",
      "Biggest change in coordinates is:  235580.65455\n",
      "Biggest change in coordinates is:  234902.56007\n",
      "Biggest change in coordinates is:  234227.284573\n",
      "Biggest change in coordinates is:  233554.815982\n",
      "Biggest change in coordinates is:  232885.142286\n",
      "Biggest change in coordinates is:  232218.251539\n",
      "Biggest change in coordinates is:  231554.131849\n",
      "Biggest change in coordinates is:  230892.77139\n",
      "Biggest change in coordinates is:  230234.158393\n",
      "Biggest change in coordinates is:  229578.281152\n",
      "Biggest change in coordinates is:  228925.128016\n",
      "Biggest change in coordinates is:  228274.687397\n",
      "Biggest change in coordinates is:  227626.947762\n",
      "Biggest change in coordinates is:  226981.897635\n",
      "Biggest change in coordinates is:  226339.525594\n",
      "Biggest change in coordinates is:  225699.820282\n",
      "Biggest change in coordinates is:  225062.770389\n",
      "Biggest change in coordinates is:  224428.364663\n",
      "Biggest change in coordinates is:  223796.591905\n",
      "Biggest change in coordinates is:  223167.440975\n",
      "Biggest change in coordinates is:  222540.900779\n",
      "Biggest change in coordinates is:  221916.960284\n",
      "Biggest change in coordinates is:  221295.6085\n",
      "Biggest change in coordinates is:  220676.834499\n",
      "Biggest change in coordinates is:  220060.627398\n",
      "Biggest change in coordinates is:  219446.976366\n",
      "Biggest change in coordinates is:  218835.870623\n",
      "Biggest change in coordinates is:  218227.299441\n",
      "Biggest change in coordinates is:  217621.252139\n",
      "Biggest change in coordinates is:  217017.718087\n",
      "Biggest change in coordinates is:  216416.686704\n",
      "Biggest change in coordinates is:  215818.147454\n",
      "Biggest change in coordinates is:  215222.089856\n",
      "Biggest change in coordinates is:  214628.503466\n",
      "Biggest change in coordinates is:  214037.377898\n",
      "Biggest change in coordinates is:  213448.702807\n",
      "Biggest change in coordinates is:  212862.467893\n",
      "Biggest change in coordinates is:  212278.66291\n",
      "Biggest change in coordinates is:  211697.277648\n",
      "Biggest change in coordinates is:  211118.301949\n",
      "Biggest change in coordinates is:  210541.725696\n",
      "Biggest change in coordinates is:  209967.538818\n",
      "Biggest change in coordinates is:  209395.731291\n",
      "Biggest change in coordinates is:  208826.293133\n",
      "Biggest change in coordinates is:  208259.214404\n",
      "Biggest change in coordinates is:  207694.48521\n",
      "Biggest change in coordinates is:  207132.095698\n",
      "Biggest change in coordinates is:  206572.03606\n",
      "Biggest change in coordinates is:  206014.296527\n",
      "Biggest change in coordinates is:  205458.867378\n",
      "Biggest change in coordinates is:  204905.738929\n",
      "Biggest change in coordinates is:  204354.901536\n",
      "Biggest change in coordinates is:  203806.345605\n",
      "Biggest change in coordinates is:  203260.061575\n",
      "Biggest change in coordinates is:  202716.03993\n",
      "Biggest change in coordinates is:  202174.271191\n",
      "Biggest change in coordinates is:  201634.745924\n",
      "Biggest change in coordinates is:  201097.45473\n",
      "Biggest change in coordinates is:  200562.388256\n",
      "Biggest change in coordinates is:  200029.537183\n",
      "Biggest change in coordinates is:  199498.892234\n",
      "Biggest change in coordinates is:  198970.444173\n",
      "Biggest change in coordinates is:  198444.183798\n",
      "Biggest change in coordinates is:  197920.10195\n",
      "Biggest change in coordinates is:  197398.189511\n",
      "Biggest change in coordinates is:  196878.437393\n",
      "Biggest change in coordinates is:  196360.836551\n",
      "Biggest change in coordinates is:  195845.377981\n",
      "Biggest change in coordinates is:  195332.052713\n",
      "Biggest change in coordinates is:  194820.851813\n",
      "Biggest change in coordinates is:  194311.766388\n",
      "Biggest change in coordinates is:  193804.787582\n",
      "Biggest change in coordinates is:  193299.906572\n",
      "Biggest change in coordinates is:  192797.114577\n",
      "Biggest change in coordinates is:  192296.402846\n",
      "Biggest change in coordinates is:  191797.762676\n",
      "Biggest change in coordinates is:  191301.185386\n",
      "Biggest change in coordinates is:  190806.662342\n",
      "Biggest change in coordinates is:  190314.184939\n",
      "Biggest change in coordinates is:  189823.744615\n",
      "Biggest change in coordinates is:  189335.332835\n",
      "Biggest change in coordinates is:  188848.941106\n",
      "Biggest change in coordinates is:  188364.560967\n",
      "Biggest change in coordinates is:  187882.183995\n",
      "Biggest change in coordinates is:  187401.8018\n",
      "Biggest change in coordinates is:  186923.406024\n",
      "Biggest change in coordinates is:  186446.98835\n",
      "Biggest change in coordinates is:  185972.54049\n",
      "Biggest change in coordinates is:  185500.054193\n",
      "Biggest change in coordinates is:  185029.521243\n",
      "Biggest change in coordinates is:  184560.933455\n",
      "Biggest change in coordinates is:  184094.282681\n",
      "Biggest change in coordinates is:  183629.560803\n",
      "Biggest change in coordinates is:  183166.759743\n",
      "Biggest change in coordinates is:  182705.871448\n",
      "Biggest change in coordinates is:  182246.887907\n",
      "Biggest change in coordinates is:  181789.801135\n",
      "Biggest change in coordinates is:  181334.603184\n",
      "Biggest change in coordinates is:  180881.286139\n",
      "Biggest change in coordinates is:  180429.842115\n",
      "Biggest change in coordinates is:  179980.263265\n",
      "Biggest change in coordinates is:  179532.541765\n",
      "Biggest change in coordinates is:  179086.669834\n",
      "Biggest change in coordinates is:  178642.639716\n",
      "Biggest change in coordinates is:  178200.443692\n",
      "Biggest change in coordinates is:  177760.074073\n",
      "Biggest change in coordinates is:  177321.523199\n",
      "Biggest change in coordinates is:  176884.783447\n",
      "Biggest change in coordinates is:  176449.847219\n",
      "Biggest change in coordinates is:  176016.706956\n",
      "Biggest change in coordinates is:  175585.355127\n",
      "Biggest change in coordinates is:  175155.784227\n",
      "Biggest change in coordinates is:  174727.986794\n",
      "Biggest change in coordinates is:  174301.955384\n",
      "Biggest change in coordinates is:  173877.682594\n",
      "Biggest change in coordinates is:  173455.161046\n",
      "Biggest change in coordinates is:  173034.383392\n",
      "Biggest change in coordinates is:  172615.342322\n",
      "Biggest change in coordinates is:  172198.030544\n",
      "Biggest change in coordinates is:  171782.440809\n",
      "Biggest change in coordinates is:  171368.565892\n",
      "Biggest change in coordinates is:  170956.398596\n",
      "Biggest change in coordinates is:  170545.931758\n",
      "Biggest change in coordinates is:  170137.158242\n",
      "Biggest change in coordinates is:  169730.070942\n",
      "Biggest change in coordinates is:  169324.662784\n",
      "Biggest change in coordinates is:  168920.926722\n",
      "Biggest change in coordinates is:  168518.855736\n",
      "Biggest change in coordinates is:  168118.442841\n",
      "Biggest change in coordinates is:  167719.681077\n",
      "Biggest change in coordinates is:  167322.563513\n",
      "Biggest change in coordinates is:  166927.083251\n",
      "Biggest change in coordinates is:  166533.233417\n",
      "Biggest change in coordinates is:  166141.007165\n",
      "Biggest change in coordinates is:  165750.397684\n",
      "Biggest change in coordinates is:  165361.398186\n",
      "Biggest change in coordinates is:  164974.001909\n",
      "Biggest change in coordinates is:  164588.202126\n",
      "Biggest change in coordinates is:  164203.992136\n",
      "Biggest change in coordinates is:  163821.365258\n",
      "Biggest change in coordinates is:  163440.314853\n",
      "Biggest change in coordinates is:  163060.834296\n",
      "Biggest change in coordinates is:  162682.917\n",
      "Biggest change in coordinates is:  162306.556401\n",
      "Biggest change in coordinates is:  161931.745959\n",
      "Biggest change in coordinates is:  161558.479166\n",
      "Biggest change in coordinates is:  161186.749541\n",
      "Biggest change in coordinates is:  160816.550631\n",
      "Biggest change in coordinates is:  160447.876005\n",
      "Biggest change in coordinates is:  160080.719262\n",
      "Biggest change in coordinates is:  159715.074027\n",
      "Biggest change in coordinates is:  159350.933954\n",
      "Biggest change in coordinates is:  158988.29272\n",
      "Biggest change in coordinates is:  158627.144032\n",
      "Biggest change in coordinates is:  158267.481619\n",
      "Biggest change in coordinates is:  157909.29924\n",
      "Biggest change in coordinates is:  157552.59068\n",
      "Biggest change in coordinates is:  157197.349745\n",
      "Biggest change in coordinates is:  156843.57027\n",
      "Biggest change in coordinates is:  156491.246123\n",
      "Biggest change in coordinates is:  156140.371185\n",
      "Biggest change in coordinates is:  155790.939371\n",
      "Biggest change in coordinates is:  155442.944616\n",
      "Biggest change in coordinates is:  155096.380887\n",
      "Biggest change in coordinates is:  154751.242169\n",
      "Biggest change in coordinates is:  154407.52248\n",
      "Biggest change in coordinates is:  154065.215854\n",
      "Biggest change in coordinates is:  153724.316358\n",
      "Biggest change in coordinates is:  153384.818079\n",
      "Biggest change in coordinates is:  153046.715133\n",
      "Biggest change in coordinates is:  152710.001653\n",
      "Biggest change in coordinates is:  152374.671808\n",
      "Biggest change in coordinates is:  152040.71978\n",
      "Biggest change in coordinates is:  151708.139782\n",
      "Biggest change in coordinates is:  151376.926049\n",
      "Biggest change in coordinates is:  151047.072842\n",
      "Biggest change in coordinates is:  150718.574441\n",
      "Biggest change in coordinates is:  150391.425161\n",
      "Biggest change in coordinates is:  150065.619326\n",
      "Biggest change in coordinates is:  149741.151294\n",
      "Biggest change in coordinates is:  149418.015448\n",
      "Biggest change in coordinates is:  149096.206185\n",
      "Biggest change in coordinates is:  148775.717933\n",
      "Biggest change in coordinates is:  148456.545141\n",
      "Biggest change in coordinates is:  148138.682282\n",
      "Biggest change in coordinates is:  147822.123851\n",
      "Biggest change in coordinates is:  147506.864369\n",
      "Biggest change in coordinates is:  147192.898379\n",
      "Biggest change in coordinates is:  146880.220439\n",
      "Biggest change in coordinates is:  146568.825144\n",
      "Biggest change in coordinates is:  146258.7071\n",
      "Biggest change in coordinates is:  145949.860944\n",
      "Biggest change in coordinates is:  145642.281325\n",
      "Biggest change in coordinates is:  145335.962925\n",
      "Biggest change in coordinates is:  145030.900446\n",
      "Biggest change in coordinates is:  144727.088607\n",
      "Biggest change in coordinates is:  144424.522156\n",
      "Biggest change in coordinates is:  144123.195854\n",
      "Biggest change in coordinates is:  143823.104494\n",
      "Biggest change in coordinates is:  143524.242887\n",
      "Biggest change in coordinates is:  143226.605863\n",
      "Biggest change in coordinates is:  142930.188275\n",
      "Biggest change in coordinates is:  142634.985\n",
      "Biggest change in coordinates is:  142340.990937\n",
      "Biggest change in coordinates is:  142048.201002\n",
      "Biggest change in coordinates is:  141756.610135\n",
      "Biggest change in coordinates is:  141466.2133\n",
      "Biggest change in coordinates is:  141177.005475\n",
      "Biggest change in coordinates is:  140888.981665\n",
      "Biggest change in coordinates is:  140602.136895\n",
      "Biggest change in coordinates is:  140316.466209\n",
      "Biggest change in coordinates is:  140031.964674\n",
      "Biggest change in coordinates is:  139748.627378\n",
      "Biggest change in coordinates is:  139466.449425\n",
      "Biggest change in coordinates is:  139185.425944\n",
      "Biggest change in coordinates is:  138905.552084\n",
      "Biggest change in coordinates is:  138626.823014\n",
      "Biggest change in coordinates is:  138349.233923\n",
      "Biggest change in coordinates is:  138072.78002\n",
      "Biggest change in coordinates is:  137797.456536\n",
      "Biggest change in coordinates is:  137523.258715\n",
      "Biggest change in coordinates is:  137250.181834\n",
      "Biggest change in coordinates is:  136978.221174\n",
      "Biggest change in coordinates is:  136707.372052\n",
      "Biggest change in coordinates is:  136437.629793\n",
      "Biggest change in coordinates is:  136168.989744\n",
      "Biggest change in coordinates is:  135901.447277\n",
      "Biggest change in coordinates is:  135634.997775\n",
      "Biggest change in coordinates is:  135369.636647\n",
      "Biggest change in coordinates is:  135105.359318\n",
      "Biggest change in coordinates is:  134842.161237\n",
      "Biggest change in coordinates is:  134580.037862\n",
      "Biggest change in coordinates is:  134318.984684\n",
      "Biggest change in coordinates is:  134058.997198\n",
      "Biggest change in coordinates is:  133800.070931\n",
      "Biggest change in coordinates is:  133542.20142\n",
      "Biggest change in coordinates is:  133285.384228\n",
      "Biggest change in coordinates is:  133029.614926\n",
      "Biggest change in coordinates is:  132774.889116\n",
      "Biggest change in coordinates is:  132521.20241\n",
      "Biggest change in coordinates is:  132268.550443\n",
      "Biggest change in coordinates is:  132016.928866\n",
      "Biggest change in coordinates is:  131766.333345\n",
      "Biggest change in coordinates is:  131516.759574\n",
      "Biggest change in coordinates is:  131268.203255\n",
      "Biggest change in coordinates is:  131020.660116\n",
      "Biggest change in coordinates is:  130774.125894\n",
      "Biggest change in coordinates is:  130528.596351\n",
      "Biggest change in coordinates is:  130284.06727\n",
      "Biggest change in coordinates is:  130040.53444\n",
      "Biggest change in coordinates is:  129797.993675\n",
      "Biggest change in coordinates is:  129556.440809\n",
      "Biggest change in coordinates is:  129315.871688\n",
      "Biggest change in coordinates is:  129076.282179\n",
      "Biggest change in coordinates is:  128837.668166\n",
      "Biggest change in coordinates is:  128600.025547\n",
      "Biggest change in coordinates is:  128363.350243\n",
      "Biggest change in coordinates is:  128127.638187\n",
      "Biggest change in coordinates is:  127892.885331\n",
      "Biggest change in coordinates is:  127659.087644\n",
      "Biggest change in coordinates is:  127426.241112\n",
      "Biggest change in coordinates is:  127194.341742\n",
      "Biggest change in coordinates is:  126963.385547\n",
      "Biggest change in coordinates is:  126733.368569\n",
      "Biggest change in coordinates is:  126504.286856\n",
      "Biggest change in coordinates is:  126276.136482\n",
      "Biggest change in coordinates is:  126048.913531\n",
      "Biggest change in coordinates is:  125822.614106\n",
      "Biggest change in coordinates is:  125597.234328\n",
      "Biggest change in coordinates is:  125372.770331\n",
      "Biggest change in coordinates is:  125149.218265\n",
      "Biggest change in coordinates is:  124926.5743\n",
      "Biggest change in coordinates is:  124704.834621\n",
      "Biggest change in coordinates is:  124483.995426\n",
      "Biggest change in coordinates is:  124264.052927\n",
      "Biggest change in coordinates is:  124045.003363\n",
      "Biggest change in coordinates is:  123826.842979\n",
      "Biggest change in coordinates is:  123609.56804\n",
      "Biggest change in coordinates is:  123393.17482\n",
      "Biggest change in coordinates is:  123177.65962\n",
      "Biggest change in coordinates is:  122963.018748\n",
      "Biggest change in coordinates is:  122749.248527\n",
      "Biggest change in coordinates is:  122536.345306\n",
      "Biggest change in coordinates is:  122324.305435\n",
      "Biggest change in coordinates is:  122113.125288\n",
      "Biggest change in coordinates is:  121902.80125\n",
      "Biggest change in coordinates is:  121693.329732\n",
      "Biggest change in coordinates is:  121484.707143\n",
      "Biggest change in coordinates is:  121276.929917\n",
      "Biggest change in coordinates is:  121069.994505\n",
      "Biggest change in coordinates is:  120863.897368\n",
      "Biggest change in coordinates is:  120658.634983\n",
      "Biggest change in coordinates is:  120454.203842\n",
      "Biggest change in coordinates is:  120250.600456\n",
      "Biggest change in coordinates is:  120047.821344\n",
      "Biggest change in coordinates is:  119845.86304\n",
      "Biggest change in coordinates is:  119644.722099\n",
      "Biggest change in coordinates is:  119444.395085\n",
      "Biggest change in coordinates is:  119244.878577\n",
      "Biggest change in coordinates is:  119046.169171\n",
      "Biggest change in coordinates is:  118848.263477\n",
      "Biggest change in coordinates is:  118651.158114\n",
      "Biggest change in coordinates is:  118454.84972\n",
      "Biggest change in coordinates is:  118259.334949\n",
      "Biggest change in coordinates is:  118064.610464\n",
      "Biggest change in coordinates is:  117870.672943\n",
      "Biggest change in coordinates is:  117677.519086\n",
      "Biggest change in coordinates is:  117485.145594\n",
      "Biggest change in coordinates is:  117293.54919\n",
      "Biggest change in coordinates is:  117102.72661\n",
      "Biggest change in coordinates is:  116912.674598\n",
      "Biggest change in coordinates is:  116723.389922\n",
      "Biggest change in coordinates is:  116534.869356\n",
      "Biggest change in coordinates is:  116347.109688\n",
      "Biggest change in coordinates is:  116160.107723\n",
      "Biggest change in coordinates is:  115973.860275\n",
      "Biggest change in coordinates is:  115788.364176\n",
      "Biggest change in coordinates is:  115603.616269\n",
      "Biggest change in coordinates is:  115419.613411\n",
      "Biggest change in coordinates is:  115236.35247\n",
      "Biggest change in coordinates is:  115053.830328\n",
      "Biggest change in coordinates is:  114872.043884\n",
      "Biggest change in coordinates is:  114690.990046\n",
      "Biggest change in coordinates is:  114510.665734\n",
      "Biggest change in coordinates is:  114331.067883\n",
      "Biggest change in coordinates is:  114152.193444\n",
      "Biggest change in coordinates is:  113974.039373\n",
      "Biggest change in coordinates is:  113796.602648\n",
      "Biggest change in coordinates is:  113619.880255\n",
      "Biggest change in coordinates is:  113443.869191\n",
      "Biggest change in coordinates is:  113268.566464\n",
      "Biggest change in coordinates is:  113093.969104\n",
      "Biggest change in coordinates is:  112920.074145\n",
      "Biggest change in coordinates is:  112746.878635\n",
      "Biggest change in coordinates is:  112574.379638\n",
      "Biggest change in coordinates is:  112402.574227\n",
      "Biggest change in coordinates is:  112231.459487\n",
      "Biggest change in coordinates is:  112061.032515\n",
      "Biggest change in coordinates is:  111891.290426\n",
      "Biggest change in coordinates is:  111722.230338\n",
      "Biggest change in coordinates is:  111553.849389\n",
      "Biggest change in coordinates is:  111386.144725\n",
      "Biggest change in coordinates is:  111219.113505\n",
      "Biggest change in coordinates is:  111052.752899\n",
      "Biggest change in coordinates is:  110887.060089\n",
      "Biggest change in coordinates is:  110722.032271\n",
      "Biggest change in coordinates is:  110557.666649\n",
      "Biggest change in coordinates is:  110393.960449\n",
      "Biggest change in coordinates is:  110230.91089\n",
      "Biggest change in coordinates is:  110068.515219\n",
      "Biggest change in coordinates is:  109906.770689\n",
      "Biggest change in coordinates is:  109745.674565\n",
      "Biggest change in coordinates is:  109585.224122\n",
      "Biggest change in coordinates is:  109425.416647\n",
      "Biggest change in coordinates is:  109266.249439\n",
      "Biggest change in coordinates is:  109107.71981\n",
      "Biggest change in coordinates is:  108949.825079\n",
      "Biggest change in coordinates is:  108792.562581\n",
      "Biggest change in coordinates is:  108635.92966\n",
      "Biggest change in coordinates is:  108479.923673\n",
      "Biggest change in coordinates is:  108324.541982\n",
      "Biggest change in coordinates is:  108169.781968\n",
      "Biggest change in coordinates is:  108015.64102\n",
      "Biggest change in coordinates is:  107862.116534\n",
      "Biggest change in coordinates is:  107709.205921\n",
      "Biggest change in coordinates is:  107556.906605\n",
      "Biggest change in coordinates is:  107405.216019\n",
      "Biggest change in coordinates is:  107254.1316\n",
      "Biggest change in coordinates is:  107103.650809\n",
      "Biggest change in coordinates is:  106953.771105\n",
      "Biggest change in coordinates is:  106804.489969\n",
      "Biggest change in coordinates is:  106655.804879\n",
      "Biggest change in coordinates is:  106507.713338\n",
      "Biggest change in coordinates is:  106360.212846\n",
      "Biggest change in coordinates is:  106213.300928\n",
      "Biggest change in coordinates is:  106066.975106\n",
      "Biggest change in coordinates is:  105921.232923\n",
      "Biggest change in coordinates is:  105776.071923\n",
      "Biggest change in coordinates is:  105631.489668\n",
      "Biggest change in coordinates is:  105487.483725\n",
      "Biggest change in coordinates is:  105344.051675\n",
      "Biggest change in coordinates is:  105201.191105\n",
      "Biggest change in coordinates is:  105058.899619\n",
      "Biggest change in coordinates is:  104917.174823\n",
      "Biggest change in coordinates is:  104776.014337\n",
      "Biggest change in coordinates is:  104635.415791\n",
      "Biggest change in coordinates is:  104495.376826\n",
      "Biggest change in coordinates is:  104355.895091\n",
      "Biggest change in coordinates is:  104216.968247\n",
      "Biggest change in coordinates is:  104078.593961\n",
      "Biggest change in coordinates is:  103940.769913\n",
      "Biggest change in coordinates is:  103803.493793\n",
      "Biggest change in coordinates is:  103666.7633\n",
      "Biggest change in coordinates is:  103530.576142\n",
      "Biggest change in coordinates is:  103394.930034\n",
      "Biggest change in coordinates is:  103259.822706\n",
      "Biggest change in coordinates is:  103125.251896\n",
      "Biggest change in coordinates is:  102991.21535\n",
      "Biggest change in coordinates is:  102857.710826\n",
      "Biggest change in coordinates is:  102724.736087\n",
      "Biggest change in coordinates is:  102592.288905\n",
      "Biggest change in coordinates is:  102460.367073\n",
      "Biggest change in coordinates is:  102328.968378\n",
      "Biggest change in coordinates is:  102198.090625\n",
      "Biggest change in coordinates is:  102067.731626\n",
      "Biggest change in coordinates is:  101937.8892\n",
      "Biggest change in coordinates is:  101808.561183\n",
      "Biggest change in coordinates is:  101679.745413\n",
      "Biggest change in coordinates is:  101551.439735\n",
      "Biggest change in coordinates is:  101423.642011\n",
      "Biggest change in coordinates is:  101296.350104\n",
      "Biggest change in coordinates is:  101169.561892\n",
      "Biggest change in coordinates is:  101043.275263\n",
      "Biggest change in coordinates is:  100917.488102\n",
      "Biggest change in coordinates is:  100792.198322\n",
      "Biggest change in coordinates is:  100667.403828\n",
      "Biggest change in coordinates is:  100543.10254\n",
      "Biggest change in coordinates is:  100419.292389\n",
      "Biggest change in coordinates is:  100295.971312\n",
      "Biggest change in coordinates is:  100173.137255\n",
      "Biggest change in coordinates is:  100050.788171\n",
      "Biggest change in coordinates is:  99928.9220279\n",
      "Biggest change in coordinates is:  99807.5367947\n",
      "Biggest change in coordinates is:  99686.6304518\n",
      "Biggest change in coordinates is:  99566.20099\n",
      "Biggest change in coordinates is:  99446.2464039\n",
      "Biggest change in coordinates is:  99326.7647025\n",
      "Biggest change in coordinates is:  99207.7539\n",
      "Biggest change in coordinates is:  99089.2120156\n",
      "Biggest change in coordinates is:  98971.1370854\n",
      "Biggest change in coordinates is:  98853.5271434\n",
      "Biggest change in coordinates is:  98736.3802447\n",
      "Biggest change in coordinates is:  98619.6944344\n",
      "Biggest change in coordinates is:  98503.4677864\n",
      "Biggest change in coordinates is:  98387.6983635\n",
      "Biggest change in coordinates is:  98272.3842541\n",
      "Biggest change in coordinates is:  98157.5235473\n",
      "Biggest change in coordinates is:  98043.1143284\n",
      "Biggest change in coordinates is:  97929.1547127\n",
      "Biggest change in coordinates is:  97815.6428069\n",
      "Biggest change in coordinates is:  97702.5767341\n",
      "Biggest change in coordinates is:  97589.9546227\n",
      "Biggest change in coordinates is:  97477.7746023\n",
      "Biggest change in coordinates is:  97366.0348257\n",
      "Biggest change in coordinates is:  97254.7334401\n",
      "Biggest change in coordinates is:  97143.8686017\n",
      "Biggest change in coordinates is:  97033.4384848\n",
      "Biggest change in coordinates is:  96923.441257\n",
      "Biggest change in coordinates is:  96813.8751081\n",
      "Biggest change in coordinates is:  96704.7382217\n",
      "Biggest change in coordinates is:  96596.0288003\n",
      "Biggest change in coordinates is:  96487.7450472\n",
      "Biggest change in coordinates is:  96379.8851734\n",
      "Biggest change in coordinates is:  96272.4474047\n",
      "Biggest change in coordinates is:  96165.4299657\n",
      "Biggest change in coordinates is:  96058.8310907\n",
      "Biggest change in coordinates is:  95952.649026\n",
      "Biggest change in coordinates is:  95846.8820148\n",
      "Biggest change in coordinates is:  95741.5283236\n",
      "Biggest change in coordinates is:  95636.5862109\n",
      "Biggest change in coordinates is:  95532.0539513\n",
      "Biggest change in coordinates is:  95427.9298253\n",
      "Biggest change in coordinates is:  95324.2121178\n",
      "Biggest change in coordinates is:  95220.8991206\n",
      "Biggest change in coordinates is:  95117.9891421\n",
      "Biggest change in coordinates is:  95015.4804806\n",
      "Biggest change in coordinates is:  94913.3714599\n",
      "Biggest change in coordinates is:  94811.6603991\n",
      "Biggest change in coordinates is:  94710.3456253\n",
      "Biggest change in coordinates is:  94609.4254794\n",
      "Biggest change in coordinates is:  94508.8983017\n",
      "Biggest change in coordinates is:  94408.7624433\n",
      "Biggest change in coordinates is:  94309.0162634\n",
      "Biggest change in coordinates is:  94209.6581257\n",
      "Biggest change in coordinates is:  94110.6863989\n",
      "Biggest change in coordinates is:  94012.0994626\n",
      "Biggest change in coordinates is:  93913.8957023\n",
      "Biggest change in coordinates is:  93816.073509\n",
      "Biggest change in coordinates is:  93718.6312815\n",
      "Biggest change in coordinates is:  93621.5674245\n",
      "Biggest change in coordinates is:  93524.8803502\n",
      "Biggest change in coordinates is:  93428.5684775\n",
      "Biggest change in coordinates is:  93332.6302291\n",
      "Biggest change in coordinates is:  93237.0640408\n",
      "Biggest change in coordinates is:  93141.8683473\n",
      "Biggest change in coordinates is:  93047.0415983\n",
      "Biggest change in coordinates is:  92952.5822391\n",
      "Biggest change in coordinates is:  92858.4887338\n",
      "Biggest change in coordinates is:  92764.7595415\n",
      "Biggest change in coordinates is:  92671.3931359\n",
      "Biggest change in coordinates is:  92578.3879954\n",
      "Biggest change in coordinates is:  92485.7426035\n",
      "Biggest change in coordinates is:  92393.4554473\n",
      "Biggest change in coordinates is:  92301.5250266\n",
      "Biggest change in coordinates is:  92209.9498427\n",
      "Biggest change in coordinates is:  92118.7284037\n",
      "Biggest change in coordinates is:  92027.8592302\n",
      "Biggest change in coordinates is:  91937.340837\n",
      "Biggest change in coordinates is:  91847.1717569\n",
      "Biggest change in coordinates is:  91757.3505204\n",
      "Biggest change in coordinates is:  91667.8756721\n",
      "Biggest change in coordinates is:  91578.7457538\n",
      "Biggest change in coordinates is:  91489.9593214\n",
      "Biggest change in coordinates is:  91401.5149308\n",
      "Biggest change in coordinates is:  91313.4111495\n",
      "Biggest change in coordinates is:  91225.646547\n",
      "Biggest change in coordinates is:  91138.219698\n",
      "Biggest change in coordinates is:  91051.1291884\n",
      "Biggest change in coordinates is:  90964.3736044\n",
      "Biggest change in coordinates is:  90877.9515422\n",
      "Biggest change in coordinates is:  90791.861601\n",
      "Biggest change in coordinates is:  90706.1023866\n",
      "Biggest change in coordinates is:  90620.672515\n",
      "Biggest change in coordinates is:  90535.5705991\n",
      "Biggest change in coordinates is:  90450.7952661\n",
      "Biggest change in coordinates is:  90366.345146\n",
      "Biggest change in coordinates is:  90282.2188726\n",
      "Biggest change in coordinates is:  90198.4150882\n",
      "Biggest change in coordinates is:  90114.9324367\n",
      "Biggest change in coordinates is:  90031.7695756\n",
      "Biggest change in coordinates is:  89948.9251589\n",
      "Biggest change in coordinates is:  89866.397854\n",
      "Biggest change in coordinates is:  89784.1863264\n",
      "Biggest change in coordinates is:  89702.2892555\n",
      "Biggest change in coordinates is:  89620.7053193\n",
      "Biggest change in coordinates is:  89539.4332034\n",
      "Biggest change in coordinates is:  89458.4716025\n",
      "Biggest change in coordinates is:  89377.8192113\n",
      "Biggest change in coordinates is:  89297.4747341\n",
      "Biggest change in coordinates is:  89217.4368765\n",
      "Biggest change in coordinates is:  89137.7043556\n",
      "Biggest change in coordinates is:  89058.2758891\n",
      "Biggest change in coordinates is:  88979.150202\n",
      "Biggest change in coordinates is:  88900.3260204\n",
      "Biggest change in coordinates is:  88821.8020849\n",
      "Biggest change in coordinates is:  88743.5771313\n",
      "Biggest change in coordinates is:  88665.6499085\n",
      "Biggest change in coordinates is:  88588.0191654\n",
      "Biggest change in coordinates is:  88510.6836616\n",
      "Biggest change in coordinates is:  88433.6421536\n",
      "Biggest change in coordinates is:  88356.8934129\n",
      "Biggest change in coordinates is:  88280.4362076\n",
      "Biggest change in coordinates is:  88204.2693169\n",
      "Biggest change in coordinates is:  88128.3915237\n",
      "Biggest change in coordinates is:  88052.8016132\n",
      "Biggest change in coordinates is:  87977.4983796\n",
      "Biggest change in coordinates is:  87902.4806196\n",
      "Biggest change in coordinates is:  87827.7471341\n",
      "Biggest change in coordinates is:  87753.2967334\n",
      "Biggest change in coordinates is:  87679.1282298\n",
      "Biggest change in coordinates is:  87605.2404401\n",
      "Biggest change in coordinates is:  87531.6321864\n",
      "Biggest change in coordinates is:  87458.3022988\n",
      "Biggest change in coordinates is:  87385.2496048\n",
      "Biggest change in coordinates is:  87312.4729474\n",
      "Biggest change in coordinates is:  87239.9711657\n",
      "Biggest change in coordinates is:  87167.7431053\n",
      "Biggest change in coordinates is:  87095.7876228\n",
      "Biggest change in coordinates is:  87024.1035714\n",
      "Biggest change in coordinates is:  86952.6898136\n",
      "Biggest change in coordinates is:  86881.5452189\n",
      "Biggest change in coordinates is:  86810.6686522\n",
      "Biggest change in coordinates is:  86740.0589947\n",
      "Biggest change in coordinates is:  86669.7151246\n",
      "Biggest change in coordinates is:  86599.6359261\n",
      "Biggest change in coordinates is:  86529.8202953\n",
      "Biggest change in coordinates is:  86460.2671177\n",
      "Biggest change in coordinates is:  86390.9753032\n",
      "Biggest change in coordinates is:  86321.9437474\n",
      "Biggest change in coordinates is:  86253.1713616\n",
      "Biggest change in coordinates is:  86184.6570589\n",
      "Biggest change in coordinates is:  86116.399758\n",
      "Biggest change in coordinates is:  86048.3983808\n",
      "Biggest change in coordinates is:  85980.651855\n",
      "Biggest change in coordinates is:  85913.1591088\n",
      "Biggest change in coordinates is:  85845.9190796\n",
      "Biggest change in coordinates is:  85778.9307109\n",
      "Biggest change in coordinates is:  85712.1929404\n",
      "Biggest change in coordinates is:  85645.7047255\n",
      "Biggest change in coordinates is:  85579.4650159\n",
      "Biggest change in coordinates is:  85513.4727691\n",
      "Biggest change in coordinates is:  85447.7269491\n",
      "Biggest change in coordinates is:  85382.2265212\n",
      "Biggest change in coordinates is:  85316.9704583\n",
      "Biggest change in coordinates is:  85251.9577332\n",
      "Biggest change in coordinates is:  85187.1873287\n",
      "Biggest change in coordinates is:  85122.6582255\n",
      "Biggest change in coordinates is:  85058.3694164\n",
      "Biggest change in coordinates is:  84994.3198915\n",
      "Biggest change in coordinates is:  84930.5086445\n",
      "Biggest change in coordinates is:  84866.9346815\n",
      "Biggest change in coordinates is:  84803.5970071\n",
      "Biggest change in coordinates is:  84740.4946287\n",
      "Biggest change in coordinates is:  84677.6265613\n",
      "Biggest change in coordinates is:  84614.9918204\n",
      "Biggest change in coordinates is:  84552.5894312\n",
      "Biggest change in coordinates is:  84490.4184165\n",
      "Biggest change in coordinates is:  84428.4778072\n",
      "Biggest change in coordinates is:  84366.7666402\n",
      "Biggest change in coordinates is:  84305.2839508\n",
      "Biggest change in coordinates is:  84244.0287835\n",
      "Biggest change in coordinates is:  84183.0001821\n",
      "Biggest change in coordinates is:  84122.1971987\n",
      "Biggest change in coordinates is:  84061.6188861\n",
      "Biggest change in coordinates is:  84001.2643044\n",
      "Biggest change in coordinates is:  83941.1325144\n",
      "Biggest change in coordinates is:  83881.2225823\n",
      "Biggest change in coordinates is:  83821.5335812\n",
      "Biggest change in coordinates is:  83762.0645807\n",
      "Biggest change in coordinates is:  83702.8146622\n",
      "Biggest change in coordinates is:  83643.782906\n",
      "Biggest change in coordinates is:  83584.9683944\n",
      "Biggest change in coordinates is:  83526.3702244\n",
      "Biggest change in coordinates is:  83467.9874853\n",
      "Biggest change in coordinates is:  83409.8192721\n",
      "Biggest change in coordinates is:  83351.8646887\n",
      "Biggest change in coordinates is:  83294.1228399\n",
      "Biggest change in coordinates is:  83236.5928328\n",
      "Biggest change in coordinates is:  83179.2737787\n",
      "Biggest change in coordinates is:  83122.1647977\n",
      "Biggest change in coordinates is:  83065.2650057\n",
      "Biggest change in coordinates is:  83008.5735255\n",
      "Biggest change in coordinates is:  82952.0894885\n",
      "Biggest change in coordinates is:  82895.8120202\n",
      "Biggest change in coordinates is:  82839.7402592\n",
      "Biggest change in coordinates is:  82783.8733443\n",
      "Biggest change in coordinates is:  82728.2104128\n",
      "Biggest change in coordinates is:  82672.7506125\n",
      "Biggest change in coordinates is:  82617.4930921\n",
      "Biggest change in coordinates is:  82562.4370065\n",
      "Biggest change in coordinates is:  82507.5815045\n",
      "Biggest change in coordinates is:  82452.9257529\n",
      "Biggest change in coordinates is:  82398.4689109\n",
      "Biggest change in coordinates is:  82344.2101478\n",
      "Biggest change in coordinates is:  82290.1486314\n",
      "Biggest change in coordinates is:  82236.2835361\n",
      "Biggest change in coordinates is:  82182.6140413\n",
      "Biggest change in coordinates is:  82129.1393226\n",
      "Biggest change in coordinates is:  82075.8585698\n",
      "Biggest change in coordinates is:  82022.7709664\n",
      "Biggest change in coordinates is:  81969.8757041\n",
      "Biggest change in coordinates is:  81917.1719787\n",
      "Biggest change in coordinates is:  81864.6589837\n",
      "Biggest change in coordinates is:  81812.3359258\n",
      "Biggest change in coordinates is:  81760.2020051\n",
      "Biggest change in coordinates is:  81708.2564306\n",
      "Biggest change in coordinates is:  81656.4984161\n",
      "Biggest change in coordinates is:  81604.9271686\n",
      "Biggest change in coordinates is:  81553.5419168\n",
      "Biggest change in coordinates is:  81502.3418694\n",
      "Biggest change in coordinates is:  81451.3262587\n",
      "Biggest change in coordinates is:  81400.4943114\n",
      "Biggest change in coordinates is:  81349.845258\n",
      "Biggest change in coordinates is:  81299.37833\n",
      "Biggest change in coordinates is:  81249.0927683\n",
      "Biggest change in coordinates is:  81198.98781\n",
      "Biggest change in coordinates is:  81149.062699\n",
      "Biggest change in coordinates is:  81099.3166856\n",
      "Biggest change in coordinates is:  81049.7490169\n",
      "Biggest change in coordinates is:  81000.3589444\n",
      "Biggest change in coordinates is:  80951.1457261\n",
      "Biggest change in coordinates is:  80902.1086234\n",
      "Biggest change in coordinates is:  80853.2468981\n",
      "Biggest change in coordinates is:  80804.5598127\n",
      "Biggest change in coordinates is:  80756.0466379\n",
      "Biggest change in coordinates is:  80707.7066466\n",
      "Biggest change in coordinates is:  80659.5391127\n",
      "Biggest change in coordinates is:  80611.5433155\n",
      "Biggest change in coordinates is:  80563.7185325\n",
      "Biggest change in coordinates is:  80516.0640509\n",
      "Biggest change in coordinates is:  80468.579155\n",
      "Biggest change in coordinates is:  80421.263137\n",
      "Biggest change in coordinates is:  80374.1152877\n",
      "Biggest change in coordinates is:  80327.1349058\n",
      "Biggest change in coordinates is:  80280.3212885\n",
      "Biggest change in coordinates is:  80233.6737378\n",
      "Biggest change in coordinates is:  80187.1915579\n",
      "Biggest change in coordinates is:  80140.8740582\n",
      "Biggest change in coordinates is:  80094.7205458\n",
      "Biggest change in coordinates is:  80048.7303402\n",
      "Biggest change in coordinates is:  80002.9027514\n",
      "Biggest change in coordinates is:  79957.237102\n",
      "Biggest change in coordinates is:  79911.7327136\n",
      "Biggest change in coordinates is:  79866.3889113\n",
      "Biggest change in coordinates is:  79821.2050233\n",
      "Biggest change in coordinates is:  79776.1803802\n",
      "Biggest change in coordinates is:  79731.3143124\n",
      "Biggest change in coordinates is:  79686.60616\n",
      "Biggest change in coordinates is:  79642.0552618\n",
      "Biggest change in coordinates is:  79597.6609593\n",
      "Biggest change in coordinates is:  79553.4225949\n",
      "Biggest change in coordinates is:  79509.3395173\n",
      "Biggest change in coordinates is:  79465.4110758\n",
      "Biggest change in coordinates is:  79421.6366254\n",
      "Biggest change in coordinates is:  79378.0155218\n",
      "Biggest change in coordinates is:  79334.5471226\n",
      "Biggest change in coordinates is:  79291.2307857\n",
      "Biggest change in coordinates is:  79248.0658768\n",
      "Biggest change in coordinates is:  79205.0517626\n",
      "Biggest change in coordinates is:  79162.1878145\n",
      "Biggest change in coordinates is:  79119.4734006\n",
      "Biggest change in coordinates is:  79076.9078958\n",
      "Biggest change in coordinates is:  79034.4906787\n",
      "Biggest change in coordinates is:  78992.2211265\n",
      "Biggest change in coordinates is:  78950.0986244\n",
      "Biggest change in coordinates is:  78908.1225518\n",
      "Biggest change in coordinates is:  78866.2923016\n",
      "Biggest change in coordinates is:  78824.6072621\n",
      "Biggest change in coordinates is:  78783.0668241\n",
      "Biggest change in coordinates is:  78741.6703855\n",
      "Biggest change in coordinates is:  78700.4173413\n",
      "Biggest change in coordinates is:  78659.3070931\n",
      "Biggest change in coordinates is:  78618.3390423\n",
      "Biggest change in coordinates is:  78577.5125954\n",
      "Biggest change in coordinates is:  78536.8271575\n",
      "Biggest change in coordinates is:  78496.2821429\n",
      "Biggest change in coordinates is:  78455.8769601\n",
      "Biggest change in coordinates is:  78415.6110299\n",
      "Biggest change in coordinates is:  78375.4837608\n",
      "Biggest change in coordinates is:  78335.4945813\n",
      "Biggest change in coordinates is:  78295.642911\n",
      "Biggest change in coordinates is:  78255.9281715\n",
      "Biggest change in coordinates is:  78216.349795\n",
      "Biggest change in coordinates is:  78176.9072081\n",
      "Biggest change in coordinates is:  78137.5998442\n",
      "Biggest change in coordinates is:  78098.4271391\n",
      "Biggest change in coordinates is:  78059.3885271\n",
      "Biggest change in coordinates is:  78020.483446\n",
      "Biggest change in coordinates is:  77981.7113425\n",
      "Biggest change in coordinates is:  77943.0716571\n",
      "Biggest change in coordinates is:  77904.5638381\n",
      "Biggest change in coordinates is:  77866.187331\n",
      "Biggest change in coordinates is:  77827.9415884\n",
      "Biggest change in coordinates is:  77789.8260633\n",
      "Biggest change in coordinates is:  77751.8402145\n",
      "Biggest change in coordinates is:  77713.9834945\n",
      "Biggest change in coordinates is:  77676.2553658\n",
      "Biggest change in coordinates is:  77638.6552915\n",
      "Biggest change in coordinates is:  77601.1827351\n",
      "Biggest change in coordinates is:  77563.8371625\n",
      "Biggest change in coordinates is:  77526.6180468\n",
      "Biggest change in coordinates is:  77489.5248556\n",
      "Biggest change in coordinates is:  77452.5570632\n",
      "Biggest change in coordinates is:  77415.7141473\n",
      "Biggest change in coordinates is:  77378.9955817\n",
      "Biggest change in coordinates is:  77342.4008541\n",
      "Biggest change in coordinates is:  77305.9294388\n",
      "Biggest change in coordinates is:  77269.5808254\n",
      "Biggest change in coordinates is:  77233.3544973\n",
      "Biggest change in coordinates is:  77197.2499444\n",
      "Biggest change in coordinates is:  77161.2666595\n",
      "Biggest change in coordinates is:  77125.4041345\n",
      "Biggest change in coordinates is:  77089.6618661\n",
      "Biggest change in coordinates is:  77054.0393504\n",
      "Biggest change in coordinates is:  77018.5360842\n",
      "Biggest change in coordinates is:  76983.1515735\n",
      "Biggest change in coordinates is:  76947.8853201\n",
      "Biggest change in coordinates is:  76912.7368334\n",
      "Biggest change in coordinates is:  76877.7056137\n",
      "Biggest change in coordinates is:  76842.7911769\n",
      "Biggest change in coordinates is:  76807.9930357\n",
      "Biggest change in coordinates is:  76773.3107005\n",
      "Biggest change in coordinates is:  76738.7436873\n",
      "Biggest change in coordinates is:  76704.2915173\n",
      "Biggest change in coordinates is:  76669.9537108\n",
      "Biggest change in coordinates is:  76635.7297867\n",
      "Biggest change in coordinates is:  76601.61927\n",
      "Biggest change in coordinates is:  76567.6216901\n",
      "Biggest change in coordinates is:  76533.7365724\n",
      "Biggest change in coordinates is:  76499.9634497\n",
      "Biggest change in coordinates is:  76466.3018497\n",
      "Biggest change in coordinates is:  76432.7513106\n",
      "Biggest change in coordinates is:  76399.3113667\n",
      "Biggest change in coordinates is:  76365.9815547\n",
      "Biggest change in coordinates is:  76332.761419\n",
      "Biggest change in coordinates is:  76299.6504978\n",
      "Biggest change in coordinates is:  76266.6483372\n",
      "Biggest change in coordinates is:  76233.7544795\n",
      "Biggest change in coordinates is:  76200.9684775\n",
      "Biggest change in coordinates is:  76168.2898743\n",
      "Biggest change in coordinates is:  76135.7182279\n",
      "Biggest change in coordinates is:  76103.253087\n",
      "Biggest change in coordinates is:  76070.8940088\n",
      "Biggest change in coordinates is:  76038.6405529\n",
      "Biggest change in coordinates is:  76006.4922717\n",
      "Biggest change in coordinates is:  75974.4487317\n",
      "Biggest change in coordinates is:  75942.5094954\n",
      "Biggest change in coordinates is:  75910.6741218\n",
      "Biggest change in coordinates is:  75878.9421851\n",
      "Biggest change in coordinates is:  75847.3132474\n",
      "Biggest change in coordinates is:  75815.7868814\n",
      "Biggest change in coordinates is:  75784.3626566\n",
      "Biggest change in coordinates is:  75753.040151\n",
      "Biggest change in coordinates is:  75721.8189372\n",
      "Biggest change in coordinates is:  75690.6985932\n",
      "Biggest change in coordinates is:  75659.6786947\n",
      "Biggest change in coordinates is:  75628.7588271\n",
      "Biggest change in coordinates is:  75597.9385688\n",
      "Biggest change in coordinates is:  75567.2175084\n",
      "Biggest change in coordinates is:  75536.5952297\n",
      "Biggest change in coordinates is:  75506.0713176\n",
      "Biggest change in coordinates is:  75475.6453654\n",
      "Biggest change in coordinates is:  75445.3169633\n",
      "Biggest change in coordinates is:  75415.0857059\n",
      "Biggest change in coordinates is:  75384.9511841\n",
      "Biggest change in coordinates is:  75354.9129963\n",
      "Biggest change in coordinates is:  75324.970741\n",
      "Biggest change in coordinates is:  75295.1240158\n",
      "Biggest change in coordinates is:  75265.372426\n",
      "Biggest change in coordinates is:  75235.7155688\n",
      "Biggest change in coordinates is:  75206.1530554\n",
      "Biggest change in coordinates is:  75176.6844873\n",
      "Biggest change in coordinates is:  75147.309476\n",
      "Biggest change in coordinates is:  75118.027628\n",
      "Biggest change in coordinates is:  75088.8385603\n",
      "Biggest change in coordinates is:  75059.7418775\n",
      "Biggest change in coordinates is:  75030.7371988\n",
      "Biggest change in coordinates is:  75001.8241433\n",
      "Biggest change in coordinates is:  74973.0023235\n",
      "Biggest change in coordinates is:  74944.2713602\n",
      "Biggest change in coordinates is:  74915.6308784\n",
      "Biggest change in coordinates is:  74887.0804961\n",
      "Biggest change in coordinates is:  74858.6198417\n",
      "Biggest change in coordinates is:  74830.2485354\n",
      "Biggest change in coordinates is:  74801.9662096\n",
      "Biggest change in coordinates is:  74773.7724907\n",
      "Biggest change in coordinates is:  74745.6670098\n",
      "Biggest change in coordinates is:  74717.6493998\n",
      "Biggest change in coordinates is:  74689.7192917\n",
      "Biggest change in coordinates is:  74661.8763239\n",
      "Biggest change in coordinates is:  74634.1201315\n",
      "Biggest change in coordinates is:  74606.450355\n",
      "Biggest change in coordinates is:  74578.8666288\n",
      "Biggest change in coordinates is:  74551.3686004\n",
      "Biggest change in coordinates is:  74523.9559102\n",
      "Biggest change in coordinates is:  74496.6281981\n",
      "Biggest change in coordinates is:  74469.3851169\n",
      "Biggest change in coordinates is:  74442.226311\n",
      "Biggest change in coordinates is:  74415.1514249\n",
      "Biggest change in coordinates is:  74388.1601152\n",
      "Biggest change in coordinates is:  74361.2520328\n",
      "Biggest change in coordinates is:  74334.4268278\n",
      "Biggest change in coordinates is:  74307.6841547\n",
      "Biggest change in coordinates is:  74281.0236726\n",
      "Biggest change in coordinates is:  74254.4450363\n",
      "Biggest change in coordinates is:  74227.9479071\n",
      "Biggest change in coordinates is:  74201.5319438\n",
      "Biggest change in coordinates is:  74175.1968097\n",
      "Biggest change in coordinates is:  74148.9421645\n",
      "Biggest change in coordinates is:  74122.7676781\n",
      "Biggest change in coordinates is:  74096.6730112\n",
      "Biggest change in coordinates is:  74070.6578354\n",
      "Biggest change in coordinates is:  74044.7218178\n",
      "Biggest change in coordinates is:  74018.8646299\n",
      "Biggest change in coordinates is:  73993.0859399\n",
      "Biggest change in coordinates is:  73967.3854232\n",
      "Biggest change in coordinates is:  73941.762756\n",
      "Biggest change in coordinates is:  73916.2176099\n",
      "Biggest change in coordinates is:  73890.7496652\n",
      "Biggest change in coordinates is:  73865.3586023\n",
      "Biggest change in coordinates is:  73840.0440963\n",
      "Biggest change in coordinates is:  73814.8058285\n",
      "Biggest change in coordinates is:  73789.6434861\n",
      "Biggest change in coordinates is:  73764.5567492\n",
      "Biggest change in coordinates is:  73739.5453029\n",
      "Biggest change in coordinates is:  73714.608835\n",
      "Biggest change in coordinates is:  73689.747036\n",
      "Biggest change in coordinates is:  73664.9595894\n",
      "Biggest change in coordinates is:  73640.2461885\n",
      "Biggest change in coordinates is:  73615.6065265\n",
      "Biggest change in coordinates is:  73591.0402928\n",
      "Biggest change in coordinates is:  73566.5471862\n",
      "Biggest change in coordinates is:  73542.126899\n",
      "Biggest change in coordinates is:  73517.7791273\n",
      "Biggest change in coordinates is:  73493.5035752\n",
      "Biggest change in coordinates is:  73469.2999361\n",
      "Biggest change in coordinates is:  73445.1679108\n",
      "Biggest change in coordinates is:  73421.1072053\n",
      "Biggest change in coordinates is:  73397.1175216\n",
      "Biggest change in coordinates is:  73373.1985594\n",
      "Biggest change in coordinates is:  73349.3500299\n",
      "Biggest change in coordinates is:  73325.5716405\n",
      "Biggest change in coordinates is:  73301.8630928\n",
      "Biggest change in coordinates is:  73278.2241051\n",
      "Biggest change in coordinates is:  73254.6543825\n",
      "Biggest change in coordinates is:  73231.1536342\n",
      "Biggest change in coordinates is:  73207.7215843\n",
      "Biggest change in coordinates is:  73184.357934\n",
      "Biggest change in coordinates is:  73161.0624067\n",
      "Biggest change in coordinates is:  73137.8347176\n",
      "Biggest change in coordinates is:  73114.6745822\n",
      "Biggest change in coordinates is:  73091.5817218\n",
      "Biggest change in coordinates is:  73068.5558563\n",
      "Biggest change in coordinates is:  73045.5967075\n",
      "Biggest change in coordinates is:  73022.7039967\n",
      "Biggest change in coordinates is:  72999.8774478\n",
      "Biggest change in coordinates is:  72977.1167871\n",
      "Biggest change in coordinates is:  72954.4217386\n",
      "Biggest change in coordinates is:  72931.7920305\n",
      "Biggest change in coordinates is:  72909.2273925\n",
      "Biggest change in coordinates is:  72886.7275543\n",
      "Biggest change in coordinates is:  72864.2922443\n",
      "Biggest change in coordinates is:  72841.9211944\n",
      "Biggest change in coordinates is:  72819.6141366\n",
      "Biggest change in coordinates is:  72797.3708102\n",
      "Biggest change in coordinates is:  72775.1909446\n",
      "Biggest change in coordinates is:  72753.0742794\n",
      "Biggest change in coordinates is:  72731.0205493\n",
      "Biggest change in coordinates is:  72709.0294933\n",
      "Biggest change in coordinates is:  72687.100854\n",
      "Biggest change in coordinates is:  72665.2343697\n",
      "Biggest change in coordinates is:  72643.429782\n",
      "Biggest change in coordinates is:  72621.6868336\n",
      "Biggest change in coordinates is:  72600.0052701\n",
      "Biggest change in coordinates is:  72578.3848346\n",
      "Biggest change in coordinates is:  72556.8252726\n",
      "Biggest change in coordinates is:  72535.3263353\n",
      "Biggest change in coordinates is:  72513.8877672\n",
      "Biggest change in coordinates is:  72492.5093167\n",
      "Biggest change in coordinates is:  72471.1907364\n",
      "Biggest change in coordinates is:  72449.93178\n",
      "Biggest change in coordinates is:  72428.7321936\n",
      "Biggest change in coordinates is:  72407.5917357\n",
      "Biggest change in coordinates is:  72386.510158\n",
      "Biggest change in coordinates is:  72365.4872191\n",
      "Biggest change in coordinates is:  72344.5226736\n",
      "Biggest change in coordinates is:  72323.6162781\n",
      "Biggest change in coordinates is:  72302.7677936\n",
      "Biggest change in coordinates is:  72281.9769774\n",
      "Biggest change in coordinates is:  72261.2435914\n",
      "Biggest change in coordinates is:  72240.5673963\n",
      "Biggest change in coordinates is:  72219.9481561\n",
      "Biggest change in coordinates is:  72199.3856345\n",
      "Biggest change in coordinates is:  72178.8795923\n",
      "Biggest change in coordinates is:  72158.4298002\n",
      "Biggest change in coordinates is:  72138.0360218\n",
      "Biggest change in coordinates is:  72117.6980256\n",
      "Biggest change in coordinates is:  72097.415583\n",
      "Biggest change in coordinates is:  72077.1884565\n",
      "Biggest change in coordinates is:  72057.0164199\n",
      "Biggest change in coordinates is:  72036.8992508\n",
      "Biggest change in coordinates is:  72016.8367126\n",
      "Biggest change in coordinates is:  71996.8285828\n",
      "Biggest change in coordinates is:  71976.8746363\n",
      "Biggest change in coordinates is:  71956.9746465\n",
      "Biggest change in coordinates is:  71937.1283915\n",
      "Biggest change in coordinates is:  71917.3356439\n",
      "Biggest change in coordinates is:  71897.5961891\n",
      "Biggest change in coordinates is:  71877.9098013\n",
      "Biggest change in coordinates is:  71858.276262\n",
      "Biggest change in coordinates is:  71838.6953504\n",
      "Biggest change in coordinates is:  71819.166851\n",
      "Biggest change in coordinates is:  71799.6905454\n",
      "Biggest change in coordinates is:  71780.2662155\n",
      "Biggest change in coordinates is:  71760.8936481\n",
      "Biggest change in coordinates is:  71741.5726265\n",
      "Biggest change in coordinates is:  71722.3029391\n",
      "Biggest change in coordinates is:  71703.0843723\n",
      "Biggest change in coordinates is:  71683.9167168\n",
      "Biggest change in coordinates is:  71664.7997551\n",
      "Biggest change in coordinates is:  71645.7332826\n",
      "Biggest change in coordinates is:  71626.7170904\n",
      "Biggest change in coordinates is:  71607.7509665\n",
      "Biggest change in coordinates is:  71588.8347055\n",
      "Biggest change in coordinates is:  71569.9681029\n",
      "Biggest change in coordinates is:  71551.1509485\n",
      "Biggest change in coordinates is:  71532.3830415\n",
      "Biggest change in coordinates is:  71513.6641777\n",
      "Biggest change in coordinates is:  71494.9941514\n",
      "Biggest change in coordinates is:  71476.3727606\n",
      "Biggest change in coordinates is:  71457.7998056\n",
      "Biggest change in coordinates is:  71439.275085\n",
      "Biggest change in coordinates is:  71420.7983988\n",
      "Biggest change in coordinates is:  71402.3695478\n",
      "Biggest change in coordinates is:  71383.9883377\n",
      "Biggest change in coordinates is:  71365.6545668\n",
      "Biggest change in coordinates is:  71347.3680392\n",
      "Biggest change in coordinates is:  71329.1285613\n",
      "Biggest change in coordinates is:  71310.9359371\n",
      "Biggest change in coordinates is:  71292.7899747\n",
      "Biggest change in coordinates is:  71274.6904787\n",
      "Biggest change in coordinates is:  71256.6372541\n",
      "Biggest change in coordinates is:  71238.630116\n",
      "Biggest change in coordinates is:  71220.6688695\n",
      "Biggest change in coordinates is:  71202.7533258\n",
      "Biggest change in coordinates is:  71184.8832965\n",
      "Biggest change in coordinates is:  71167.0585918\n",
      "Biggest change in coordinates is:  71149.2790256\n",
      "Biggest change in coordinates is:  71131.5444103\n",
      "Biggest change in coordinates is:  71113.8545608\n",
      "Biggest change in coordinates is:  71096.20929\n",
      "Biggest change in coordinates is:  71078.6084184\n",
      "Biggest change in coordinates is:  71061.0517532\n",
      "Biggest change in coordinates is:  71043.5391226\n",
      "Biggest change in coordinates is:  71026.0703364\n",
      "Biggest change in coordinates is:  71008.6452174\n",
      "Biggest change in coordinates is:  70991.2635849\n",
      "Biggest change in coordinates is:  70973.9252585\n",
      "Biggest change in coordinates is:  70956.6300572\n",
      "Biggest change in coordinates is:  70939.3778052\n",
      "Biggest change in coordinates is:  70922.1683257\n",
      "Biggest change in coordinates is:  70905.0014386\n",
      "Biggest change in coordinates is:  70887.8769694\n",
      "Biggest change in coordinates is:  70870.7947454\n",
      "Biggest change in coordinates is:  70853.7545907\n",
      "Biggest change in coordinates is:  70836.7563308\n",
      "Biggest change in coordinates is:  70819.7997902\n",
      "Biggest change in coordinates is:  70802.8848004\n",
      "Biggest change in coordinates is:  70786.0111866\n",
      "Biggest change in coordinates is:  70769.1787823\n",
      "Biggest change in coordinates is:  70752.3874127\n",
      "Biggest change in coordinates is:  70735.6369125\n",
      "Biggest change in coordinates is:  70718.9271091\n",
      "Biggest change in coordinates is:  70702.2578383\n",
      "Biggest change in coordinates is:  70685.6289304\n",
      "Biggest change in coordinates is:  70669.040218\n",
      "Biggest change in coordinates is:  70652.491535\n",
      "Biggest change in coordinates is:  70635.9827195\n",
      "Biggest change in coordinates is:  70619.5136047\n",
      "Biggest change in coordinates is:  70603.0840271\n",
      "Biggest change in coordinates is:  70586.6938231\n",
      "Biggest change in coordinates is:  70570.3428317\n",
      "Biggest change in coordinates is:  70554.030887\n",
      "Biggest change in coordinates is:  70537.7578336\n",
      "Biggest change in coordinates is:  70521.5235057\n",
      "Biggest change in coordinates is:  70505.3277501\n",
      "Biggest change in coordinates is:  70489.1703999\n",
      "Biggest change in coordinates is:  70473.0513045\n",
      "Biggest change in coordinates is:  70456.9702999\n",
      "Biggest change in coordinates is:  70440.9272325\n",
      "Biggest change in coordinates is:  70424.9219418\n",
      "Biggest change in coordinates is:  70408.9542787\n",
      "Biggest change in coordinates is:  70393.0240844\n",
      "Biggest change in coordinates is:  70377.1312031\n",
      "Biggest change in coordinates is:  70361.2754828\n",
      "Biggest change in coordinates is:  70345.4567704\n",
      "Biggest change in coordinates is:  70329.6749092\n",
      "Biggest change in coordinates is:  70313.9297558\n",
      "Biggest change in coordinates is:  70298.2211521\n",
      "Biggest change in coordinates is:  70282.5489515\n",
      "Biggest change in coordinates is:  70266.9129994\n",
      "Biggest change in coordinates is:  70251.3131538\n",
      "Biggest change in coordinates is:  70235.7492555\n",
      "Biggest change in coordinates is:  70220.2211644\n",
      "Biggest change in coordinates is:  70204.7287309\n",
      "Biggest change in coordinates is:  70189.2718112\n",
      "Biggest change in coordinates is:  70173.8502533\n",
      "Biggest change in coordinates is:  70158.4639125\n",
      "Biggest change in coordinates is:  70143.1126506\n",
      "Biggest change in coordinates is:  70127.7963159\n",
      "Biggest change in coordinates is:  70112.5147654\n",
      "Biggest change in coordinates is:  70097.2678593\n",
      "Biggest change in coordinates is:  70082.0554532\n",
      "Biggest change in coordinates is:  70066.8774056\n",
      "Biggest change in coordinates is:  70051.7335742\n",
      "Biggest change in coordinates is:  70036.6238188\n",
      "Biggest change in coordinates is:  70021.5479988\n",
      "Biggest change in coordinates is:  70006.5059753\n",
      "Biggest change in coordinates is:  69991.4976104\n",
      "Biggest change in coordinates is:  69976.5227611\n",
      "Biggest change in coordinates is:  69961.5812942\n",
      "Biggest change in coordinates is:  69946.673071\n",
      "Biggest change in coordinates is:  69931.7979557\n",
      "Biggest change in coordinates is:  69916.9558091\n",
      "Biggest change in coordinates is:  69902.1465024\n",
      "Biggest change in coordinates is:  69887.3698924\n",
      "Biggest change in coordinates is:  69872.6258486\n",
      "Biggest change in coordinates is:  69857.9142348\n",
      "Biggest change in coordinates is:  69843.2349227\n",
      "Biggest change in coordinates is:  69828.5877734\n",
      "Biggest change in coordinates is:  69813.9726638\n",
      "Biggest change in coordinates is:  69799.3894508\n",
      "Biggest change in coordinates is:  69784.8380111\n",
      "Biggest change in coordinates is:  69770.3182135\n",
      "Biggest change in coordinates is:  69755.8299266\n",
      "Biggest change in coordinates is:  69741.3730176\n",
      "Biggest change in coordinates is:  69726.9473634\n",
      "Biggest change in coordinates is:  69712.5528323\n",
      "Biggest change in coordinates is:  69698.1893006\n",
      "Biggest change in coordinates is:  69683.8566365\n",
      "Biggest change in coordinates is:  69669.554714\n",
      "Biggest change in coordinates is:  69655.2834067\n",
      "Biggest change in coordinates is:  69641.0425926\n",
      "Biggest change in coordinates is:  69626.8321427\n",
      "Biggest change in coordinates is:  69612.6519348\n",
      "Biggest change in coordinates is:  69598.5018421\n",
      "Biggest change in coordinates is:  69584.3817444\n",
      "Biggest change in coordinates is:  69570.2915146\n",
      "Biggest change in coordinates is:  69556.2310345\n",
      "Biggest change in coordinates is:  69542.2001799\n",
      "Biggest change in coordinates is:  69528.1988284\n",
      "Biggest change in coordinates is:  69514.2268623\n",
      "Biggest change in coordinates is:  69500.2841575\n",
      "Biggest change in coordinates is:  69486.3705959\n",
      "Biggest change in coordinates is:  69472.4860578\n",
      "Biggest change in coordinates is:  69458.6304242\n",
      "Biggest change in coordinates is:  69444.8035782\n",
      "Biggest change in coordinates is:  69431.0053975\n",
      "Biggest change in coordinates is:  69417.2357689\n",
      "Biggest change in coordinates is:  69403.4945711\n",
      "Biggest change in coordinates is:  69389.7816952\n",
      "Biggest change in coordinates is:  69376.0970162\n",
      "Biggest change in coordinates is:  69362.4404264\n",
      "Biggest change in coordinates is:  69348.8118056\n",
      "Biggest change in coordinates is:  69335.211042\n",
      "Biggest change in coordinates is:  69321.6380193\n",
      "Biggest change in coordinates is:  69308.0926263\n",
      "Biggest change in coordinates is:  69294.574747\n",
      "Biggest change in coordinates is:  69281.0842705\n",
      "Biggest change in coordinates is:  69267.6210865\n",
      "Biggest change in coordinates is:  69254.1850809\n",
      "Biggest change in coordinates is:  69240.776146\n",
      "Biggest change in coordinates is:  69227.3941604\n",
      "Biggest change in coordinates is:  69214.0390303\n",
      "Biggest change in coordinates is:  69200.7106313\n",
      "Biggest change in coordinates is:  69187.4088627\n",
      "Biggest change in coordinates is:  69174.1336129\n",
      "Biggest change in coordinates is:  69160.8847737\n",
      "Biggest change in coordinates is:  69147.6622345\n",
      "Biggest change in coordinates is:  69134.4658929\n",
      "Biggest change in coordinates is:  69121.2956383\n",
      "Biggest change in coordinates is:  69108.1513641\n",
      "Biggest change in coordinates is:  69095.032968\n",
      "Biggest change in coordinates is:  69081.9403382\n",
      "Biggest change in coordinates is:  69068.8733724\n",
      "Biggest change in coordinates is:  69055.8319675\n",
      "Biggest change in coordinates is: "
     ]
    }
   ],
   "source": [
    "initial_weights = np.zeros(14)\n",
    "weights1e4 = lasso_cyclical_coordinate_descent(normalized_feature_matrix, output,\n",
    "                                            initial_weights, 1e4, tolerance)\n",
    "print weights1e4"
   ]
  },
  {
   "cell_type": "markdown",
   "metadata": {},
   "source": [
    "***QUIZ QUESTION***\n",
    "\n",
    "What features had non-zero weight in this case?"
   ]
  },
  {
   "cell_type": "markdown",
   "metadata": {},
   "source": [
    "## Rescaling learned weights"
   ]
  },
  {
   "cell_type": "markdown",
   "metadata": {},
   "source": [
    "Recall that we normalized our feature matrix, before learning the weights.  To use these weights on a test set, we must normalize the test data in the same way.\n",
    "\n",
    "Alternatively, we can rescale the learned weights to include the normalization, so we never have to worry about normalizing the test data: \n",
    "\n",
    "In this case, we must scale the resulting weights so that we can make predictions with *original* features:\n",
    " 1. Store the norms of the original features to a vector called `norms`:\n",
    "```\n",
    "features, norms = normalize_features(features)\n",
    "```\n",
    " 2. Run Lasso on the normalized features and obtain a `weights` vector\n",
    " 3. Compute the weights for the original features by performing element-wise division, i.e.\n",
    "```\n",
    "weights_normalized = weights / norms\n",
    "```\n",
    "Now, we can apply `weights_normalized` to the test data, without normalizing it!"
   ]
  },
  {
   "cell_type": "markdown",
   "metadata": {},
   "source": [
    "Create a normalized version of each of the weights learned above. (`weights1e4`, `weights1e7`, `weights1e8`)."
   ]
  },
  {
   "cell_type": "code",
   "execution_count": 40,
   "metadata": {
    "collapsed": false
   },
   "outputs": [
    {
     "name": "stdout",
     "output_type": "stream",
     "text": [
      "[  7.98641912e+08  -1.95402559e+07   1.31204844e+07   5.21206277e+07\n",
      "  -1.34624832e+06   3.88192020e+06   6.86364794e+06   4.53274113e+06\n",
      "   8.61215911e+06   1.28519189e+08   0.00000000e+00   2.27011961e+05\n",
      "  -9.09594222e+08   6.32131474e+05]\n",
      "[ 24429600.60933346         0.                 0.          48389174.35227959\n",
      "         0.                 0.           3317511.16271979\n",
      "   7329961.98489638         0.                 0.                 0.\n",
      "         0.                 0.                 0.        ]\n",
      "[ 71114625.75280942         0.                 0.                 0.\n",
      "         0.                 0.                 0.                 0.\n",
      "         0.                 0.                 0.                 0.\n",
      "         0.                 0.        ]\n",
      "[  1.31848398e+02   4.60040216e+02   2.96850552e+02   2.99962419e+05\n",
      "   5.81709718e+06   2.04107815e+02   1.15325626e+01   1.05933942e+02\n",
      "   4.57793622e+02   1.02101959e+03   2.59726472e+05   7.01224951e+04\n",
      "   2.59922094e+05   5.36953839e+04]\n",
      "['bedrooms' 'bathrooms' 'sqft_living' 'sqft_lot' 'floors' 'waterfront'\n",
      " 'view' 'condition' 'grade' 'sqft_basement' 'yr_built' 'yr_renovated']\n"
     ]
    }
   ],
   "source": [
    "weights1e4 = np.array([ 7.98641912e+08, -1.95402559e+07,   1.31204844e+07,  5.21206277e+07,\n",
    "  -1.34624832e+06,   3.88192020e+06,   6.86364794e+06 ,  4.53274113e+06,\n",
    "   8.61215911e+06,   1.28519189e+08,   0.00000000e+00 ,  2.27011961e+05,\n",
    "  -9.09594222e+08,   6.32131474e+05])\n",
    "print weights1e4\n",
    "print weights1e7\n",
    "print weights1e8\n",
    "print norms\n",
    "all_features = np.array(all_features)\n",
    "print all_features[weights1e4[1:14] != 0]"
   ]
  },
  {
   "cell_type": "markdown",
   "metadata": {},
   "source": [
    "To check your results, if you call `normalized_weights1e7` the normalized version of `weights1e7`, then:\n",
    "```\n",
    "print normalized_weights1e7[3]\n",
    "```\n",
    "should return 161.31745624837794."
   ]
  },
  {
   "cell_type": "code",
   "execution_count": 42,
   "metadata": {
    "collapsed": false
   },
   "outputs": [
    {
     "name": "stdout",
     "output_type": "stream",
     "text": [
      "161.317456248\n"
     ]
    }
   ],
   "source": [
    "normalized_weights1e7 = weights1e7/norms\n",
    "normalized_weights1e4 = weights1e4/norms\n",
    "normalized_weights1e8 = weights1e8/norms\n",
    "print normalized_weights1e7[3]"
   ]
  },
  {
   "cell_type": "markdown",
   "metadata": {},
   "source": [
    "## Evaluating each of the learned models on the test data"
   ]
  },
  {
   "cell_type": "markdown",
   "metadata": {},
   "source": [
    "Let's now evaluate the three models on the test data:"
   ]
  },
  {
   "cell_type": "code",
   "execution_count": 47,
   "metadata": {
    "collapsed": false
   },
   "outputs": [],
   "source": [
    "all_features = list(all_features)\n",
    "(test_feature_matrix, test_output) = get_numpy_data(test_data, all_features, 'price')"
   ]
  },
  {
   "cell_type": "markdown",
   "metadata": {},
   "source": [
    "Compute the RSS of each of the three normalized weights on the (unnormalized) `test_feature_matrix`:"
   ]
  },
  {
   "cell_type": "code",
   "execution_count": 49,
   "metadata": {
    "collapsed": false
   },
   "outputs": [
    {
     "name": "stdout",
     "output_type": "stream",
     "text": [
      "1.9449518865e+14\n"
     ]
    }
   ],
   "source": [
    "rss1e4 =  ((predict_output(test_feature_matrix, normalized_weights1e4) - test_output)**2).sum()\n",
    "print rss1e4"
   ]
  },
  {
   "cell_type": "code",
   "execution_count": 50,
   "metadata": {
    "collapsed": false
   },
   "outputs": [
    {
     "name": "stdout",
     "output_type": "stream",
     "text": [
      "2.75962079909e+14\n"
     ]
    }
   ],
   "source": [
    "rss1e7 =  ((predict_output(test_feature_matrix, normalized_weights1e7) - test_output)**2).sum()\n",
    "print rss1e7"
   ]
  },
  {
   "cell_type": "code",
   "execution_count": 51,
   "metadata": {
    "collapsed": false
   },
   "outputs": [
    {
     "name": "stdout",
     "output_type": "stream",
     "text": [
      "5.37166150034e+14\n"
     ]
    }
   ],
   "source": [
    "rss1e8 =  ((predict_output(test_feature_matrix, normalized_weights1e8) - test_output)**2).sum()\n",
    "print rss1e8"
   ]
  },
  {
   "cell_type": "markdown",
   "metadata": {},
   "source": [
    "***QUIZ QUESTION***\n",
    "\n",
    "Which model performed best on the test data?"
   ]
  }
 ],
 "metadata": {
  "kernelspec": {
   "display_name": "Python 2",
   "language": "python",
   "name": "python2"
  },
  "language_info": {
   "codemirror_mode": {
    "name": "ipython",
    "version": 2
   },
   "file_extension": ".py",
   "mimetype": "text/x-python",
   "name": "python",
   "nbconvert_exporter": "python",
   "pygments_lexer": "ipython2",
   "version": "2.7.11"
  }
 },
 "nbformat": 4,
 "nbformat_minor": 0
}
